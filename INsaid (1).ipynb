{
 "cells": [
  {
   "cell_type": "markdown",
   "id": "72ffb12e-ee54-4fc5-ad11-ba5e5947a7ed",
   "metadata": {},
   "source": [
    "## PREDICTION OF FRADULENT TRANSACTIONS"
   ]
  },
  {
   "cell_type": "code",
   "execution_count": 113,
   "id": "2e9d1bf5-5169-41d2-938a-8bc6c7dc28c1",
   "metadata": {},
   "outputs": [],
   "source": [
    "import pandas as pd\n",
    "import numpy as np"
   ]
  },
  {
   "cell_type": "code",
   "execution_count": 168,
   "id": "67a0e6f5-bb80-46a3-a73d-7bf659904798",
   "metadata": {},
   "outputs": [
    {
     "name": "stdout",
     "output_type": "stream",
     "text": [
      "         step      type      amount     nameOrig  oldbalanceOrg  \\\n",
      "3737323   278   CASH_IN   330218.42   C632336343       20866.00   \n",
      "264914     15   PAYMENT    11647.08  C1264712553       30370.00   \n",
      "85647      10   CASH_IN   152264.21  C1746846248      106589.00   \n",
      "5899326   403  TRANSFER  1551760.63   C333676753           0.00   \n",
      "2544263   206   CASH_IN    78172.30   C813403091     2921331.58   \n",
      "\n",
      "         newbalanceOrig     nameDest  oldbalanceDest  newbalanceDest  isFraud  \\\n",
      "3737323       351084.42   C834976624       452419.57       122201.15        0   \n",
      "264914         18722.92   M215391829            0.00            0.00        0   \n",
      "85647         258853.21  C1607284477       201303.01        49038.80        0   \n",
      "5899326            0.00  C1564353608      3198359.45      4750120.08        0   \n",
      "2544263      2999503.88  C1091768874       415821.90       337649.60        0   \n",
      "\n",
      "         isFlaggedFraud  \n",
      "3737323               0  \n",
      "264914                0  \n",
      "85647                 0  \n",
      "5899326               0  \n",
      "2544263               0  \n"
     ]
    }
   ],
   "source": [
    "data_sample = pd.read_csv(r\"C:\\Users\\Admin\\Downloads\\Fraud.csv\")\n",
    "\n",
    "# Randomly sample 10,000 rows\n",
    "random_sample = data_sample.sample(n=1000000, random_state=42)\n",
    "\n",
    "# Check the sample\n",
    "print(random_sample.head())\n",
    "data_ = random_sample\n"
   ]
  },
  {
   "cell_type": "code",
   "execution_count": 169,
   "id": "f603d140-6ef3-4b7a-9aed-5c4781cf4ded",
   "metadata": {},
   "outputs": [
    {
     "data": {
      "text/plain": [
       "isFraud\n",
       "0    998734\n",
       "1      1266\n",
       "Name: count, dtype: int64"
      ]
     },
     "execution_count": 169,
     "metadata": {},
     "output_type": "execute_result"
    }
   ],
   "source": [
    "data_['isFraud'].value_counts()"
   ]
  },
  {
   "cell_type": "markdown",
   "id": "3ad9df73-f2ac-4fda-97b3-c44d2060d58d",
   "metadata": {},
   "source": [
    "Shows imbalance in dataset"
   ]
  },
  {
   "cell_type": "code",
   "execution_count": 177,
   "id": "45e275fe-e5b8-4b09-99e0-5c064cf90ac8",
   "metadata": {},
   "outputs": [
    {
     "data": {
      "text/plain": [
       "isFlaggedFraud\n",
       "0    999997\n",
       "1         3\n",
       "Name: count, dtype: int64"
      ]
     },
     "execution_count": 177,
     "metadata": {},
     "output_type": "execute_result"
    }
   ],
   "source": [
    "data['isFlaggedFraud'].value_counts()"
   ]
  },
  {
   "cell_type": "code",
   "execution_count": 170,
   "id": "b7228d6f-2c14-4f63-85cb-add4862feaf8",
   "metadata": {},
   "outputs": [
    {
     "data": {
      "text/plain": [
       "step                int64\n",
       "type               object\n",
       "amount            float64\n",
       "nameOrig           object\n",
       "oldbalanceOrg     float64\n",
       "newbalanceOrig    float64\n",
       "nameDest           object\n",
       "oldbalanceDest    float64\n",
       "newbalanceDest    float64\n",
       "isFraud             int64\n",
       "isFlaggedFraud      int32\n",
       "dtype: object"
      ]
     },
     "execution_count": 170,
     "metadata": {},
     "output_type": "execute_result"
    }
   ],
   "source": [
    "data_['isFlaggedFraud'] = data_sample['isFlaggedFraud'].astype(int)\n",
    "data_.dtypes"
   ]
  },
  {
   "cell_type": "code",
   "execution_count": 203,
   "id": "f4a5131a-515a-41ae-b197-c6f3eb80892b",
   "metadata": {},
   "outputs": [
    {
     "name": "stdout",
     "output_type": "stream",
     "text": [
      "Unique values in 'type' column: ['CASH_IN' 'PAYMENT' 'TRANSFER' 'CASH_OUT' 'DEBIT']\n"
     ]
    }
   ],
   "source": [
    "unique_types = data_['type'].unique()\n",
    "print(\"Unique values in 'type' column:\", unique_types)"
   ]
  },
  {
   "cell_type": "markdown",
   "id": "11f126e4-d272-4639-b568-6c5f41237aed",
   "metadata": {},
   "source": [
    "Categorical variable type is converted to dummy variables"
   ]
  },
  {
   "cell_type": "code",
   "execution_count": 204,
   "id": "5c7d98ab-c48e-4dc6-956a-7d2bdc0c6f20",
   "metadata": {},
   "outputs": [],
   "source": [
    "data_onehot = pd.get_dummies(data_, columns=['type'], drop_first=False)"
   ]
  },
  {
   "cell_type": "markdown",
   "id": "c419cf94-cf10-4aff-9c5c-ad6a5a1db17d",
   "metadata": {},
   "source": [
    "Checking missing values if any"
   ]
  },
  {
   "cell_type": "code",
   "execution_count": 205,
   "id": "b61b27b3-2a89-4bd9-ac0a-a57086ddfac9",
   "metadata": {},
   "outputs": [
    {
     "data": {
      "text/plain": [
       "step              0\n",
       "amount            0\n",
       "nameOrig          0\n",
       "oldbalanceOrg     0\n",
       "newbalanceOrig    0\n",
       "nameDest          0\n",
       "oldbalanceDest    0\n",
       "newbalanceDest    0\n",
       "isFraud           0\n",
       "isFlaggedFraud    0\n",
       "type_CASH_IN      0\n",
       "type_CASH_OUT     0\n",
       "type_DEBIT        0\n",
       "type_PAYMENT      0\n",
       "type_TRANSFER     0\n",
       "dtype: int64"
      ]
     },
     "execution_count": 205,
     "metadata": {},
     "output_type": "execute_result"
    }
   ],
   "source": [
    "data_onehot.isnull().sum()"
   ]
  },
  {
   "cell_type": "markdown",
   "id": "aee6c3a5-fbf8-4343-9129-d43385af01bf",
   "metadata": {},
   "source": [
    "No missing values found"
   ]
  },
  {
   "cell_type": "code",
   "execution_count": 174,
   "id": "1cda8217-7616-4ec4-a5bd-efc4043315ba",
   "metadata": {},
   "outputs": [
    {
     "data": {
      "text/html": [
       "<div>\n",
       "<style scoped>\n",
       "    .dataframe tbody tr th:only-of-type {\n",
       "        vertical-align: middle;\n",
       "    }\n",
       "\n",
       "    .dataframe tbody tr th {\n",
       "        vertical-align: top;\n",
       "    }\n",
       "\n",
       "    .dataframe thead th {\n",
       "        text-align: right;\n",
       "    }\n",
       "</style>\n",
       "<table border=\"1\" class=\"dataframe\">\n",
       "  <thead>\n",
       "    <tr style=\"text-align: right;\">\n",
       "      <th></th>\n",
       "      <th>step</th>\n",
       "      <th>amount</th>\n",
       "      <th>nameOrig</th>\n",
       "      <th>oldbalanceOrg</th>\n",
       "      <th>newbalanceOrig</th>\n",
       "      <th>nameDest</th>\n",
       "      <th>oldbalanceDest</th>\n",
       "      <th>newbalanceDest</th>\n",
       "      <th>isFraud</th>\n",
       "      <th>isFlaggedFraud</th>\n",
       "      <th>type_CASH_IN</th>\n",
       "      <th>type_CASH_OUT</th>\n",
       "      <th>type_DEBIT</th>\n",
       "      <th>type_PAYMENT</th>\n",
       "      <th>type_TRANSFER</th>\n",
       "    </tr>\n",
       "  </thead>\n",
       "  <tbody>\n",
       "    <tr>\n",
       "      <th>3737323</th>\n",
       "      <td>278</td>\n",
       "      <td>330218.42</td>\n",
       "      <td>C632336343</td>\n",
       "      <td>20866.00</td>\n",
       "      <td>351084.42</td>\n",
       "      <td>C834976624</td>\n",
       "      <td>452419.57</td>\n",
       "      <td>122201.15</td>\n",
       "      <td>0</td>\n",
       "      <td>0</td>\n",
       "      <td>True</td>\n",
       "      <td>False</td>\n",
       "      <td>False</td>\n",
       "      <td>False</td>\n",
       "      <td>False</td>\n",
       "    </tr>\n",
       "    <tr>\n",
       "      <th>264914</th>\n",
       "      <td>15</td>\n",
       "      <td>11647.08</td>\n",
       "      <td>C1264712553</td>\n",
       "      <td>30370.00</td>\n",
       "      <td>18722.92</td>\n",
       "      <td>M215391829</td>\n",
       "      <td>0.00</td>\n",
       "      <td>0.00</td>\n",
       "      <td>0</td>\n",
       "      <td>0</td>\n",
       "      <td>False</td>\n",
       "      <td>False</td>\n",
       "      <td>False</td>\n",
       "      <td>True</td>\n",
       "      <td>False</td>\n",
       "    </tr>\n",
       "    <tr>\n",
       "      <th>85647</th>\n",
       "      <td>10</td>\n",
       "      <td>152264.21</td>\n",
       "      <td>C1746846248</td>\n",
       "      <td>106589.00</td>\n",
       "      <td>258853.21</td>\n",
       "      <td>C1607284477</td>\n",
       "      <td>201303.01</td>\n",
       "      <td>49038.80</td>\n",
       "      <td>0</td>\n",
       "      <td>0</td>\n",
       "      <td>True</td>\n",
       "      <td>False</td>\n",
       "      <td>False</td>\n",
       "      <td>False</td>\n",
       "      <td>False</td>\n",
       "    </tr>\n",
       "    <tr>\n",
       "      <th>5899326</th>\n",
       "      <td>403</td>\n",
       "      <td>1551760.63</td>\n",
       "      <td>C333676753</td>\n",
       "      <td>0.00</td>\n",
       "      <td>0.00</td>\n",
       "      <td>C1564353608</td>\n",
       "      <td>3198359.45</td>\n",
       "      <td>4750120.08</td>\n",
       "      <td>0</td>\n",
       "      <td>0</td>\n",
       "      <td>False</td>\n",
       "      <td>False</td>\n",
       "      <td>False</td>\n",
       "      <td>False</td>\n",
       "      <td>True</td>\n",
       "    </tr>\n",
       "    <tr>\n",
       "      <th>2544263</th>\n",
       "      <td>206</td>\n",
       "      <td>78172.30</td>\n",
       "      <td>C813403091</td>\n",
       "      <td>2921331.58</td>\n",
       "      <td>2999503.88</td>\n",
       "      <td>C1091768874</td>\n",
       "      <td>415821.90</td>\n",
       "      <td>337649.60</td>\n",
       "      <td>0</td>\n",
       "      <td>0</td>\n",
       "      <td>True</td>\n",
       "      <td>False</td>\n",
       "      <td>False</td>\n",
       "      <td>False</td>\n",
       "      <td>False</td>\n",
       "    </tr>\n",
       "  </tbody>\n",
       "</table>\n",
       "</div>"
      ],
      "text/plain": [
       "         step      amount     nameOrig  oldbalanceOrg  newbalanceOrig  \\\n",
       "3737323   278   330218.42   C632336343       20866.00       351084.42   \n",
       "264914     15    11647.08  C1264712553       30370.00        18722.92   \n",
       "85647      10   152264.21  C1746846248      106589.00       258853.21   \n",
       "5899326   403  1551760.63   C333676753           0.00            0.00   \n",
       "2544263   206    78172.30   C813403091     2921331.58      2999503.88   \n",
       "\n",
       "            nameDest  oldbalanceDest  newbalanceDest  isFraud  isFlaggedFraud  \\\n",
       "3737323   C834976624       452419.57       122201.15        0               0   \n",
       "264914    M215391829            0.00            0.00        0               0   \n",
       "85647    C1607284477       201303.01        49038.80        0               0   \n",
       "5899326  C1564353608      3198359.45      4750120.08        0               0   \n",
       "2544263  C1091768874       415821.90       337649.60        0               0   \n",
       "\n",
       "         type_CASH_IN  type_CASH_OUT  type_DEBIT  type_PAYMENT  type_TRANSFER  \n",
       "3737323          True          False       False         False          False  \n",
       "264914          False          False       False          True          False  \n",
       "85647            True          False       False         False          False  \n",
       "5899326         False          False       False         False           True  \n",
       "2544263          True          False       False         False          False  "
      ]
     },
     "execution_count": 174,
     "metadata": {},
     "output_type": "execute_result"
    }
   ],
   "source": [
    "data_onehot.head()"
   ]
  },
  {
   "cell_type": "code",
   "execution_count": 175,
   "id": "9ac7ddb9-a7f7-4364-96c5-c5db04301cb4",
   "metadata": {},
   "outputs": [
    {
     "data": {
      "text/html": [
       "<div>\n",
       "<style scoped>\n",
       "    .dataframe tbody tr th:only-of-type {\n",
       "        vertical-align: middle;\n",
       "    }\n",
       "\n",
       "    .dataframe tbody tr th {\n",
       "        vertical-align: top;\n",
       "    }\n",
       "\n",
       "    .dataframe thead th {\n",
       "        text-align: right;\n",
       "    }\n",
       "</style>\n",
       "<table border=\"1\" class=\"dataframe\">\n",
       "  <thead>\n",
       "    <tr style=\"text-align: right;\">\n",
       "      <th></th>\n",
       "      <th>step</th>\n",
       "      <th>amount</th>\n",
       "      <th>oldbalanceOrg</th>\n",
       "      <th>newbalanceOrig</th>\n",
       "      <th>oldbalanceDest</th>\n",
       "      <th>newbalanceDest</th>\n",
       "      <th>isFraud</th>\n",
       "      <th>isFlaggedFraud</th>\n",
       "    </tr>\n",
       "  </thead>\n",
       "  <tbody>\n",
       "    <tr>\n",
       "      <th>count</th>\n",
       "      <td>1000000.000000</td>\n",
       "      <td>1.000000e+06</td>\n",
       "      <td>1.000000e+06</td>\n",
       "      <td>1.000000e+06</td>\n",
       "      <td>1.000000e+06</td>\n",
       "      <td>1.000000e+06</td>\n",
       "      <td>1000000.000000</td>\n",
       "      <td>1000000.000000</td>\n",
       "    </tr>\n",
       "    <tr>\n",
       "      <th>mean</th>\n",
       "      <td>243.512303</td>\n",
       "      <td>1.804999e+05</td>\n",
       "      <td>8.319644e+05</td>\n",
       "      <td>8.534179e+05</td>\n",
       "      <td>1.105606e+06</td>\n",
       "      <td>1.230483e+06</td>\n",
       "      <td>0.001266</td>\n",
       "      <td>0.000003</td>\n",
       "    </tr>\n",
       "    <tr>\n",
       "      <th>std</th>\n",
       "      <td>142.415978</td>\n",
       "      <td>6.170112e+05</td>\n",
       "      <td>2.884868e+06</td>\n",
       "      <td>2.921068e+06</td>\n",
       "      <td>3.417108e+06</td>\n",
       "      <td>3.698862e+06</td>\n",
       "      <td>0.035558</td>\n",
       "      <td>0.001732</td>\n",
       "    </tr>\n",
       "    <tr>\n",
       "      <th>min</th>\n",
       "      <td>1.000000</td>\n",
       "      <td>0.000000e+00</td>\n",
       "      <td>0.000000e+00</td>\n",
       "      <td>0.000000e+00</td>\n",
       "      <td>0.000000e+00</td>\n",
       "      <td>0.000000e+00</td>\n",
       "      <td>0.000000</td>\n",
       "      <td>0.000000</td>\n",
       "    </tr>\n",
       "    <tr>\n",
       "      <th>25%</th>\n",
       "      <td>156.000000</td>\n",
       "      <td>1.336029e+04</td>\n",
       "      <td>0.000000e+00</td>\n",
       "      <td>0.000000e+00</td>\n",
       "      <td>0.000000e+00</td>\n",
       "      <td>0.000000e+00</td>\n",
       "      <td>0.000000</td>\n",
       "      <td>0.000000</td>\n",
       "    </tr>\n",
       "    <tr>\n",
       "      <th>50%</th>\n",
       "      <td>239.000000</td>\n",
       "      <td>7.487864e+04</td>\n",
       "      <td>1.425613e+04</td>\n",
       "      <td>0.000000e+00</td>\n",
       "      <td>1.329588e+05</td>\n",
       "      <td>2.153516e+05</td>\n",
       "      <td>0.000000</td>\n",
       "      <td>0.000000</td>\n",
       "    </tr>\n",
       "    <tr>\n",
       "      <th>75%</th>\n",
       "      <td>335.000000</td>\n",
       "      <td>2.092836e+05</td>\n",
       "      <td>1.071842e+05</td>\n",
       "      <td>1.443272e+05</td>\n",
       "      <td>9.482025e+05</td>\n",
       "      <td>1.115964e+06</td>\n",
       "      <td>0.000000</td>\n",
       "      <td>0.000000</td>\n",
       "    </tr>\n",
       "    <tr>\n",
       "      <th>max</th>\n",
       "      <td>742.000000</td>\n",
       "      <td>6.933732e+07</td>\n",
       "      <td>4.039905e+07</td>\n",
       "      <td>3.795009e+07</td>\n",
       "      <td>3.553805e+08</td>\n",
       "      <td>3.560159e+08</td>\n",
       "      <td>1.000000</td>\n",
       "      <td>1.000000</td>\n",
       "    </tr>\n",
       "  </tbody>\n",
       "</table>\n",
       "</div>"
      ],
      "text/plain": [
       "                 step        amount  oldbalanceOrg  newbalanceOrig  \\\n",
       "count  1000000.000000  1.000000e+06   1.000000e+06    1.000000e+06   \n",
       "mean       243.512303  1.804999e+05   8.319644e+05    8.534179e+05   \n",
       "std        142.415978  6.170112e+05   2.884868e+06    2.921068e+06   \n",
       "min          1.000000  0.000000e+00   0.000000e+00    0.000000e+00   \n",
       "25%        156.000000  1.336029e+04   0.000000e+00    0.000000e+00   \n",
       "50%        239.000000  7.487864e+04   1.425613e+04    0.000000e+00   \n",
       "75%        335.000000  2.092836e+05   1.071842e+05    1.443272e+05   \n",
       "max        742.000000  6.933732e+07   4.039905e+07    3.795009e+07   \n",
       "\n",
       "       oldbalanceDest  newbalanceDest         isFraud  isFlaggedFraud  \n",
       "count    1.000000e+06    1.000000e+06  1000000.000000  1000000.000000  \n",
       "mean     1.105606e+06    1.230483e+06        0.001266        0.000003  \n",
       "std      3.417108e+06    3.698862e+06        0.035558        0.001732  \n",
       "min      0.000000e+00    0.000000e+00        0.000000        0.000000  \n",
       "25%      0.000000e+00    0.000000e+00        0.000000        0.000000  \n",
       "50%      1.329588e+05    2.153516e+05        0.000000        0.000000  \n",
       "75%      9.482025e+05    1.115964e+06        0.000000        0.000000  \n",
       "max      3.553805e+08    3.560159e+08        1.000000        1.000000  "
      ]
     },
     "execution_count": 175,
     "metadata": {},
     "output_type": "execute_result"
    }
   ],
   "source": [
    "data = data_onehot\n",
    "data.describe()"
   ]
  },
  {
   "cell_type": "code",
   "execution_count": 176,
   "id": "3de39863-deea-4720-8092-206c9f461a07",
   "metadata": {},
   "outputs": [
    {
     "name": "stdout",
     "output_type": "stream",
     "text": [
      "<class 'pandas.core.frame.DataFrame'>\n",
      "Index: 1000000 entries, 3737323 to 1023694\n",
      "Data columns (total 15 columns):\n",
      " #   Column          Non-Null Count    Dtype  \n",
      "---  ------          --------------    -----  \n",
      " 0   step            1000000 non-null  int64  \n",
      " 1   amount          1000000 non-null  float64\n",
      " 2   nameOrig        1000000 non-null  object \n",
      " 3   oldbalanceOrg   1000000 non-null  float64\n",
      " 4   newbalanceOrig  1000000 non-null  float64\n",
      " 5   nameDest        1000000 non-null  object \n",
      " 6   oldbalanceDest  1000000 non-null  float64\n",
      " 7   newbalanceDest  1000000 non-null  float64\n",
      " 8   isFraud         1000000 non-null  int64  \n",
      " 9   isFlaggedFraud  1000000 non-null  int32  \n",
      " 10  type_CASH_IN    1000000 non-null  bool   \n",
      " 11  type_CASH_OUT   1000000 non-null  bool   \n",
      " 12  type_DEBIT      1000000 non-null  bool   \n",
      " 13  type_PAYMENT    1000000 non-null  bool   \n",
      " 14  type_TRANSFER   1000000 non-null  bool   \n",
      "dtypes: bool(5), float64(5), int32(1), int64(2), object(2)\n",
      "memory usage: 84.9+ MB\n"
     ]
    }
   ],
   "source": [
    "data.info()"
   ]
  },
  {
   "cell_type": "markdown",
   "id": "5bfbea87-9eb9-4e46-8d4a-602c1bf5817c",
   "metadata": {},
   "source": [
    "## EDA"
   ]
  },
  {
   "cell_type": "code",
   "execution_count": 178,
   "id": "f7c4a6c6-158f-49d7-9fc3-6230a1c729f5",
   "metadata": {},
   "outputs": [
    {
     "data": {
      "image/png": "[encoded data removed]",
      "text/plain": [
       "<Figure size 1200x1000 with 9 Axes>"
      ]
     },
     "metadata": {},
     "output_type": "display_data"
    }
   ],
   "source": [
    "#!pip install seaborn\n",
    "import matplotlib.pyplot as plt\n",
    "import seaborn as sns\n",
    "\n",
    "data.hist(figsize=(12, 10), bins=30)\n",
    "plt.show()\n"
   ]
  },
  {
   "cell_type": "code",
   "execution_count": 179,
   "id": "1ae249b7-0ae6-46cd-9466-d2c06dbb6c41",
   "metadata": {},
   "outputs": [
    {
     "data": {
      "image/png": "[encoded data removed]",
      "text/plain": [
       "<Figure size 1200x600 with 1 Axes>"
      ]
     },
     "metadata": {},
     "output_type": "display_data"
    }
   ],
   "source": [
    "plt.figure(figsize=(12, 6))\n",
    "sns.boxplot(data=data.select_dtypes(include=['float32', 'float64']))\n",
    "plt.xticks(rotation=90)\n",
    "plt.show()\n"
   ]
  },
  {
   "cell_type": "code",
   "execution_count": 180,
   "id": "0edc17d5-8a0c-43b2-9347-b0621d29e29a",
   "metadata": {},
   "outputs": [
    {
     "data": {
      "image/png": "[encoded data removed]",
      "text/plain": [
       "<Figure size 1000x800 with 2 Axes>"
      ]
     },
     "metadata": {},
     "output_type": "display_data"
    }
   ],
   "source": [
    "numeric_data = data.select_dtypes(include=['float64', 'float32', 'int64', 'int32','bool'])\n",
    "\n",
    "# Compute correlation matrix\n",
    "correlation_matrix = numeric_data.corr()\n",
    "\n",
    "# Plot the correlation matrix using seaborn\n",
    "plt.figure(figsize=(10,8))\n",
    "sns.heatmap(correlation_matrix, cmap='coolwarm',annot=True, fmt=\".2f\",linewidths=0.5)\n",
    "plt.title('Correlation Matrix')\n",
    "plt.show()"
   ]
  },
  {
   "cell_type": "markdown",
   "id": "e157e73b-0c90-42b3-9327-45f456b72e86",
   "metadata": {},
   "source": [
    "High correlation exists only between newbalanceDest and oldbalanceDest"
   ]
  },
  {
   "cell_type": "code",
   "execution_count": 181,
   "id": "8963eecd-f185-475a-978b-53664c649902",
   "metadata": {},
   "outputs": [
    {
     "data": {
      "image/png": "[encoded data removed]",
      "text/plain": [
       "<Figure size 1000x500 with 1 Axes>"
      ]
     },
     "metadata": {},
     "output_type": "display_data"
    }
   ],
   "source": [
    "plt.figure(figsize=(10, 5))\n",
    "sns.countplot(x='type', data=data_sample)\n",
    "plt.title('Transaction Type Distribution')\n",
    "plt.show()\n"
   ]
  },
  {
   "cell_type": "code",
   "execution_count": 182,
   "id": "a6722b6a-5f09-455c-a9d1-723618741fc7",
   "metadata": {},
   "outputs": [
    {
     "name": "stdout",
     "output_type": "stream",
     "text": [
      "amount            31.314107\n",
      "oldbalanceOrg      5.263898\n",
      "newbalanceOrig     5.192138\n",
      "oldbalanceDest    20.198992\n",
      "newbalanceDest    19.649421\n",
      "dtype: float64\n"
     ]
    }
   ],
   "source": [
    "# Printing Skewness\n",
    "skewness = data[['amount', 'oldbalanceOrg', 'newbalanceOrig', 'oldbalanceDest', 'newbalanceDest']].skew()\n",
    "print(skewness)\n"
   ]
  },
  {
   "cell_type": "markdown",
   "id": "0c2464f1-ffb5-438a-84e9-9fd0e5d883d2",
   "metadata": {},
   "source": [
    "Amount shows high skewness and can be binned "
   ]
  },
  {
   "cell_type": "code",
   "execution_count": 183,
   "id": "c92471b1-b6f0-4402-bdf5-e12e04c95cb5",
   "metadata": {},
   "outputs": [
    {
     "name": "stdout",
     "output_type": "stream",
     "text": [
      "          feature         VIF\n",
      "0            step    1.189441\n",
      "1          amount    4.360574\n",
      "2   oldbalanceOrg  574.929576\n",
      "3  newbalanceOrig  577.534341\n",
      "4  oldbalanceDest   77.763176\n",
      "5  newbalanceDest   90.600931\n",
      "6         isFraud    1.170481\n",
      "7  isFlaggedFraud    1.004200\n"
     ]
    }
   ],
   "source": [
    "numeric_cols = data.select_dtypes(include=[np.number])\n",
    "\n",
    "# Handling infinite values\n",
    "numeric_cols = numeric_cols.replace([np.inf, -np.inf], np.nan).dropna()\n",
    "\n",
    "# Numeric cols\n",
    "for col in numeric_cols.columns:\n",
    "    numeric_cols[col] = pd.to_numeric(numeric_cols[col], errors='coerce')\n",
    "\n",
    "# Drop any rows that contain NaN after coercing to numeric\n",
    "numeric_cols = numeric_cols.dropna()\n",
    "\n",
    "# VIF calculation\n",
    "vif_data = pd.DataFrame()\n",
    "vif_data[\"feature\"] = numeric_cols.columns\n",
    "\n",
    "# Calculate VIF for each numeric feature\n",
    "vif_data[\"VIF\"] = [variance_inflation_factor(numeric_cols.values, i)\n",
    "                   for i in range(len(numeric_cols.columns))]\n",
    "\n",
    "# Output the VIF values\n",
    "print(vif_data)"
   ]
  },
  {
   "cell_type": "markdown",
   "id": "d1392469-6dff-4761-873c-c1771c0cfdf0",
   "metadata": {},
   "source": [
    "Thus oldbalanceOrg, newbalanceOrig, oldbalanceDest, newbalanceDest has very high VIF posing threat of multicollinearity in these variables"
   ]
  },
  {
   "cell_type": "markdown",
   "id": "6d774231-59a0-48c5-851d-4e6c59749561",
   "metadata": {},
   "source": [
    "## MODEL"
   ]
  },
  {
   "cell_type": "markdown",
   "id": "0d57a0e3-446e-4659-a465-228671a53afd",
   "metadata": {},
   "source": [
    "Since the data is huge, trying on every ml model possible with best features extracted and then training the best fitted model requires high computational time and resources. Instead, using automations like pycaret can be quite helpful in deciding the best model. The objective is to predict the fradulent transactions which is a classification problem. Note : Had the data not being appended with isFraud column, the problem would be anamoly detection. In that case, pycaret anamoly would have been used as here classification is used."
   ]
  },
  {
   "cell_type": "code",
   "execution_count": 184,
   "id": "f621dbff-df6d-45a9-ad1d-cb0c595d1c2c",
   "metadata": {},
   "outputs": [],
   "source": [
    "from pycaret.classification import *"
   ]
  },
  {
   "cell_type": "code",
   "execution_count": null,
   "id": "476a062a-ab0c-4881-ad87-10770320ee54",
   "metadata": {},
   "outputs": [],
   "source": [
    "mod = setup(data_func=load_data, target = 'isFraud', session_id =123)"
   ]
  },
  {
   "cell_type": "code",
   "execution_count": 187,
   "id": "024afc90-8484-4494-be29-09b96673d117",
   "metadata": {},
   "outputs": [
    {
     "data": {
      "text/plain": [
       "step                 int32\n",
       "amount             float32\n",
       "oldbalanceOrg      float32\n",
       "newbalanceOrig     float32\n",
       "oldbalanceDest     float32\n",
       "newbalanceDest     float32\n",
       "isFlaggedFraud    category\n",
       "type_CASH_IN          bool\n",
       "type_CASH_OUT         bool\n",
       "type_DEBIT            bool\n",
       "type_PAYMENT          bool\n",
       "type_TRANSFER         bool\n",
       "dtype: object"
      ]
     },
     "execution_count": 187,
     "metadata": {},
     "output_type": "execute_result"
    }
   ],
   "source": [
    "data_types = mod.X.dtypes\n",
    "data_types"
   ]
  },
  {
   "cell_type": "markdown",
   "id": "8758c778-d721-48b3-b666-72d0afa6e9cb",
   "metadata": {},
   "source": [
    "Here, the isFlaggedFraud col is considered as int which needs to be modelled as a category"
   ]
  },
  {
   "cell_type": "code",
   "execution_count": null,
   "id": "9f181da1-b037-4be5-b12e-6ae5f70457a8",
   "metadata": {},
   "outputs": [],
   "source": [
    "data['isFlaggedFraud'] = data['isFlaggedFraud'].astype('category')\n",
    "def load_data():\n",
    "    return data"
   ]
  },
  {
   "cell_type": "markdown",
   "id": "270570be-1b50-4a59-b387-540da84aec27",
   "metadata": {},
   "source": [
    "Data cleaning including missing values, outliers and multicollinearity"
   ]
  },
  {
   "cell_type": "markdown",
   "id": "34768cbd-4b14-4869-b500-184985e4d806",
   "metadata": {},
   "source": [
    "The target variable here - isFraud which will be dependent on amount and type. \n",
    "Categorical variables like Name of Customer who started the transactions or name of receipient of the transaction are irrelevant in predicting fradulent transactions, hence are ignored. \n",
    "These will be helpful in deciding the frauds, but here we are considering transactions.\n",
    "isFlaggedFraud is ignored in this model as it predicts 16/8213 frauds ie 0.001 only, of which lesser will be accurate.\n",
    "Hence for the time being, amount entirely is considered, and the business model that had flagged illegal attempts is kept on hold. \n",
    "\n",
    "Other Features will be selected by feature selection estimator using random forest classifier aiding to determine the feature importance and its score. As seen above the data has a lot of imbalance, obviously there will be lesser frauds compared to the clean transactions, hence SMOTE is used. Stratified k fold strategy is used for cross validating the models.\n",
    "5 folds of data are used for cv as if lesser might not capture the variations, and more could be used if computational resources are available.\n",
    "\n",
    "Outliers and multicollinearity is removed, spliting data in train and test sets in a stratified manner, reason being the same as of imbalance. \n",
    "Multicollinearity threashold being 0.9 (default) and outliers % being 0.05 trim (default)\n",
    "Data needs to scaled and transformed as skewness are higher for nearly all variables. "
   ]
  },
  {
   "cell_type": "code",
   "execution_count": 190,
   "id": "eedec477-845b-484c-b453-c7b982b8eab3",
   "metadata": {},
   "outputs": [
    {
     "name": "stdout",
     "output_type": "stream",
     "text": [
      "[LightGBM] [Info] Number of positive: 664558, number of negative: 664558\n",
      "[LightGBM] [Info] Auto-choosing row-wise multi-threading, the overhead of testing was 0.009355 seconds.\n",
      "You can set `force_row_wise=true` to remove the overhead.\n",
      "And if memory is not enough, you can set `force_col_wise=true`.\n",
      "[LightGBM] [Info] Total Bins 768\n",
      "[LightGBM] [Info] Number of data points in the train set: 1329116, number of used features: 4\n",
      "[LightGBM] [Info] [binary:BoostFromScore]: pavg=0.500000 -> initscore=0.000000\n"
     ]
    },
    {
     "data": {
      "text/html": [
       "<style type=\"text/css\">\n",
       "#T_3e278_row11_col1, #T_3e278_row17_col1, #T_3e278_row19_col1, #T_3e278_row21_col1, #T_3e278_row23_col1, #T_3e278_row25_col1, #T_3e278_row27_col1 {\n",
       "  background-color: lightgreen;\n",
       "}\n",
       "</style>\n",
       "<table id=\"T_3e278\">\n",
       "  <thead>\n",
       "    <tr>\n",
       "      <th class=\"blank level0\" >&nbsp;</th>\n",
       "      <th id=\"T_3e278_level0_col0\" class=\"col_heading level0 col0\" >Description</th>\n",
       "      <th id=\"T_3e278_level0_col1\" class=\"col_heading level0 col1\" >Value</th>\n",
       "    </tr>\n",
       "  </thead>\n",
       "  <tbody>\n",
       "    <tr>\n",
       "      <th id=\"T_3e278_level0_row0\" class=\"row_heading level0 row0\" >0</th>\n",
       "      <td id=\"T_3e278_row0_col0\" class=\"data row0 col0\" >Session id</td>\n",
       "      <td id=\"T_3e278_row0_col1\" class=\"data row0 col1\" >123</td>\n",
       "    </tr>\n",
       "    <tr>\n",
       "      <th id=\"T_3e278_level0_row1\" class=\"row_heading level0 row1\" >1</th>\n",
       "      <td id=\"T_3e278_row1_col0\" class=\"data row1 col0\" >Target</td>\n",
       "      <td id=\"T_3e278_row1_col1\" class=\"data row1 col1\" >isFraud</td>\n",
       "    </tr>\n",
       "    <tr>\n",
       "      <th id=\"T_3e278_level0_row2\" class=\"row_heading level0 row2\" >2</th>\n",
       "      <td id=\"T_3e278_row2_col0\" class=\"data row2 col0\" >Target type</td>\n",
       "      <td id=\"T_3e278_row2_col1\" class=\"data row2 col1\" >Binary</td>\n",
       "    </tr>\n",
       "    <tr>\n",
       "      <th id=\"T_3e278_level0_row3\" class=\"row_heading level0 row3\" >3</th>\n",
       "      <td id=\"T_3e278_row3_col0\" class=\"data row3 col0\" >Original data shape</td>\n",
       "      <td id=\"T_3e278_row3_col1\" class=\"data row3 col1\" >(1000000, 15)</td>\n",
       "    </tr>\n",
       "    <tr>\n",
       "      <th id=\"T_3e278_level0_row4\" class=\"row_heading level0 row4\" >4</th>\n",
       "      <td id=\"T_3e278_row4_col0\" class=\"data row4 col0\" >Transformed data shape</td>\n",
       "      <td id=\"T_3e278_row4_col1\" class=\"data row4 col1\" >(1629116, 8)</td>\n",
       "    </tr>\n",
       "    <tr>\n",
       "      <th id=\"T_3e278_level0_row5\" class=\"row_heading level0 row5\" >5</th>\n",
       "      <td id=\"T_3e278_row5_col0\" class=\"data row5 col0\" >Transformed train set shape</td>\n",
       "      <td id=\"T_3e278_row5_col1\" class=\"data row5 col1\" >(1329116, 8)</td>\n",
       "    </tr>\n",
       "    <tr>\n",
       "      <th id=\"T_3e278_level0_row6\" class=\"row_heading level0 row6\" >6</th>\n",
       "      <td id=\"T_3e278_row6_col0\" class=\"data row6 col0\" >Transformed test set shape</td>\n",
       "      <td id=\"T_3e278_row6_col1\" class=\"data row6 col1\" >(300000, 8)</td>\n",
       "    </tr>\n",
       "    <tr>\n",
       "      <th id=\"T_3e278_level0_row7\" class=\"row_heading level0 row7\" >7</th>\n",
       "      <td id=\"T_3e278_row7_col0\" class=\"data row7 col0\" >Ignore features</td>\n",
       "      <td id=\"T_3e278_row7_col1\" class=\"data row7 col1\" >2</td>\n",
       "    </tr>\n",
       "    <tr>\n",
       "      <th id=\"T_3e278_level0_row8\" class=\"row_heading level0 row8\" >8</th>\n",
       "      <td id=\"T_3e278_row8_col0\" class=\"data row8 col0\" >Numeric features</td>\n",
       "      <td id=\"T_3e278_row8_col1\" class=\"data row8 col1\" >6</td>\n",
       "    </tr>\n",
       "    <tr>\n",
       "      <th id=\"T_3e278_level0_row9\" class=\"row_heading level0 row9\" >9</th>\n",
       "      <td id=\"T_3e278_row9_col0\" class=\"data row9 col0\" >Categorical features</td>\n",
       "      <td id=\"T_3e278_row9_col1\" class=\"data row9 col1\" >1</td>\n",
       "    </tr>\n",
       "    <tr>\n",
       "      <th id=\"T_3e278_level0_row10\" class=\"row_heading level0 row10\" >10</th>\n",
       "      <td id=\"T_3e278_row10_col0\" class=\"data row10 col0\" >Keep features</td>\n",
       "      <td id=\"T_3e278_row10_col1\" class=\"data row10 col1\" >6</td>\n",
       "    </tr>\n",
       "    <tr>\n",
       "      <th id=\"T_3e278_level0_row11\" class=\"row_heading level0 row11\" >11</th>\n",
       "      <td id=\"T_3e278_row11_col0\" class=\"data row11 col0\" >Preprocess</td>\n",
       "      <td id=\"T_3e278_row11_col1\" class=\"data row11 col1\" >True</td>\n",
       "    </tr>\n",
       "    <tr>\n",
       "      <th id=\"T_3e278_level0_row12\" class=\"row_heading level0 row12\" >12</th>\n",
       "      <td id=\"T_3e278_row12_col0\" class=\"data row12 col0\" >Imputation type</td>\n",
       "      <td id=\"T_3e278_row12_col1\" class=\"data row12 col1\" >simple</td>\n",
       "    </tr>\n",
       "    <tr>\n",
       "      <th id=\"T_3e278_level0_row13\" class=\"row_heading level0 row13\" >13</th>\n",
       "      <td id=\"T_3e278_row13_col0\" class=\"data row13 col0\" >Numeric imputation</td>\n",
       "      <td id=\"T_3e278_row13_col1\" class=\"data row13 col1\" >mean</td>\n",
       "    </tr>\n",
       "    <tr>\n",
       "      <th id=\"T_3e278_level0_row14\" class=\"row_heading level0 row14\" >14</th>\n",
       "      <td id=\"T_3e278_row14_col0\" class=\"data row14 col0\" >Categorical imputation</td>\n",
       "      <td id=\"T_3e278_row14_col1\" class=\"data row14 col1\" >mode</td>\n",
       "    </tr>\n",
       "    <tr>\n",
       "      <th id=\"T_3e278_level0_row15\" class=\"row_heading level0 row15\" >15</th>\n",
       "      <td id=\"T_3e278_row15_col0\" class=\"data row15 col0\" >Maximum one-hot encoding</td>\n",
       "      <td id=\"T_3e278_row15_col1\" class=\"data row15 col1\" >25</td>\n",
       "    </tr>\n",
       "    <tr>\n",
       "      <th id=\"T_3e278_level0_row16\" class=\"row_heading level0 row16\" >16</th>\n",
       "      <td id=\"T_3e278_row16_col0\" class=\"data row16 col0\" >Encoding method</td>\n",
       "      <td id=\"T_3e278_row16_col1\" class=\"data row16 col1\" >None</td>\n",
       "    </tr>\n",
       "    <tr>\n",
       "      <th id=\"T_3e278_level0_row17\" class=\"row_heading level0 row17\" >17</th>\n",
       "      <td id=\"T_3e278_row17_col0\" class=\"data row17 col0\" >Remove multicollinearity</td>\n",
       "      <td id=\"T_3e278_row17_col1\" class=\"data row17 col1\" >True</td>\n",
       "    </tr>\n",
       "    <tr>\n",
       "      <th id=\"T_3e278_level0_row18\" class=\"row_heading level0 row18\" >18</th>\n",
       "      <td id=\"T_3e278_row18_col0\" class=\"data row18 col0\" >Multicollinearity threshold</td>\n",
       "      <td id=\"T_3e278_row18_col1\" class=\"data row18 col1\" >0.900000</td>\n",
       "    </tr>\n",
       "    <tr>\n",
       "      <th id=\"T_3e278_level0_row19\" class=\"row_heading level0 row19\" >19</th>\n",
       "      <td id=\"T_3e278_row19_col0\" class=\"data row19 col0\" >Remove outliers</td>\n",
       "      <td id=\"T_3e278_row19_col1\" class=\"data row19 col1\" >True</td>\n",
       "    </tr>\n",
       "    <tr>\n",
       "      <th id=\"T_3e278_level0_row20\" class=\"row_heading level0 row20\" >20</th>\n",
       "      <td id=\"T_3e278_row20_col0\" class=\"data row20 col0\" >Outliers threshold</td>\n",
       "      <td id=\"T_3e278_row20_col1\" class=\"data row20 col1\" >0.050000</td>\n",
       "    </tr>\n",
       "    <tr>\n",
       "      <th id=\"T_3e278_level0_row21\" class=\"row_heading level0 row21\" >21</th>\n",
       "      <td id=\"T_3e278_row21_col0\" class=\"data row21 col0\" >Fix imbalance</td>\n",
       "      <td id=\"T_3e278_row21_col1\" class=\"data row21 col1\" >True</td>\n",
       "    </tr>\n",
       "    <tr>\n",
       "      <th id=\"T_3e278_level0_row22\" class=\"row_heading level0 row22\" >22</th>\n",
       "      <td id=\"T_3e278_row22_col0\" class=\"data row22 col0\" >Fix imbalance method</td>\n",
       "      <td id=\"T_3e278_row22_col1\" class=\"data row22 col1\" >SMOTE</td>\n",
       "    </tr>\n",
       "    <tr>\n",
       "      <th id=\"T_3e278_level0_row23\" class=\"row_heading level0 row23\" >23</th>\n",
       "      <td id=\"T_3e278_row23_col0\" class=\"data row23 col0\" >Transformation</td>\n",
       "      <td id=\"T_3e278_row23_col1\" class=\"data row23 col1\" >True</td>\n",
       "    </tr>\n",
       "    <tr>\n",
       "      <th id=\"T_3e278_level0_row24\" class=\"row_heading level0 row24\" >24</th>\n",
       "      <td id=\"T_3e278_row24_col0\" class=\"data row24 col0\" >Transformation method</td>\n",
       "      <td id=\"T_3e278_row24_col1\" class=\"data row24 col1\" >yeo-johnson</td>\n",
       "    </tr>\n",
       "    <tr>\n",
       "      <th id=\"T_3e278_level0_row25\" class=\"row_heading level0 row25\" >25</th>\n",
       "      <td id=\"T_3e278_row25_col0\" class=\"data row25 col0\" >Normalize</td>\n",
       "      <td id=\"T_3e278_row25_col1\" class=\"data row25 col1\" >True</td>\n",
       "    </tr>\n",
       "    <tr>\n",
       "      <th id=\"T_3e278_level0_row26\" class=\"row_heading level0 row26\" >26</th>\n",
       "      <td id=\"T_3e278_row26_col0\" class=\"data row26 col0\" >Normalize method</td>\n",
       "      <td id=\"T_3e278_row26_col1\" class=\"data row26 col1\" >zscore</td>\n",
       "    </tr>\n",
       "    <tr>\n",
       "      <th id=\"T_3e278_level0_row27\" class=\"row_heading level0 row27\" >27</th>\n",
       "      <td id=\"T_3e278_row27_col0\" class=\"data row27 col0\" >Feature selection</td>\n",
       "      <td id=\"T_3e278_row27_col1\" class=\"data row27 col1\" >True</td>\n",
       "    </tr>\n",
       "    <tr>\n",
       "      <th id=\"T_3e278_level0_row28\" class=\"row_heading level0 row28\" >28</th>\n",
       "      <td id=\"T_3e278_row28_col0\" class=\"data row28 col0\" >Feature selection method</td>\n",
       "      <td id=\"T_3e278_row28_col1\" class=\"data row28 col1\" >classic</td>\n",
       "    </tr>\n",
       "    <tr>\n",
       "      <th id=\"T_3e278_level0_row29\" class=\"row_heading level0 row29\" >29</th>\n",
       "      <td id=\"T_3e278_row29_col0\" class=\"data row29 col0\" >Feature selection estimator</td>\n",
       "      <td id=\"T_3e278_row29_col1\" class=\"data row29 col1\" >lightgbm</td>\n",
       "    </tr>\n",
       "    <tr>\n",
       "      <th id=\"T_3e278_level0_row30\" class=\"row_heading level0 row30\" >30</th>\n",
       "      <td id=\"T_3e278_row30_col0\" class=\"data row30 col0\" >Number of features selected</td>\n",
       "      <td id=\"T_3e278_row30_col1\" class=\"data row30 col1\" >0.200000</td>\n",
       "    </tr>\n",
       "    <tr>\n",
       "      <th id=\"T_3e278_level0_row31\" class=\"row_heading level0 row31\" >31</th>\n",
       "      <td id=\"T_3e278_row31_col0\" class=\"data row31 col0\" >Fold Generator</td>\n",
       "      <td id=\"T_3e278_row31_col1\" class=\"data row31 col1\" >StratifiedKFold</td>\n",
       "    </tr>\n",
       "    <tr>\n",
       "      <th id=\"T_3e278_level0_row32\" class=\"row_heading level0 row32\" >32</th>\n",
       "      <td id=\"T_3e278_row32_col0\" class=\"data row32 col0\" >Fold Number</td>\n",
       "      <td id=\"T_3e278_row32_col1\" class=\"data row32 col1\" >10</td>\n",
       "    </tr>\n",
       "    <tr>\n",
       "      <th id=\"T_3e278_level0_row33\" class=\"row_heading level0 row33\" >33</th>\n",
       "      <td id=\"T_3e278_row33_col0\" class=\"data row33 col0\" >CPU Jobs</td>\n",
       "      <td id=\"T_3e278_row33_col1\" class=\"data row33 col1\" >-1</td>\n",
       "    </tr>\n",
       "    <tr>\n",
       "      <th id=\"T_3e278_level0_row34\" class=\"row_heading level0 row34\" >34</th>\n",
       "      <td id=\"T_3e278_row34_col0\" class=\"data row34 col0\" >Use GPU</td>\n",
       "      <td id=\"T_3e278_row34_col1\" class=\"data row34 col1\" >False</td>\n",
       "    </tr>\n",
       "    <tr>\n",
       "      <th id=\"T_3e278_level0_row35\" class=\"row_heading level0 row35\" >35</th>\n",
       "      <td id=\"T_3e278_row35_col0\" class=\"data row35 col0\" >Log Experiment</td>\n",
       "      <td id=\"T_3e278_row35_col1\" class=\"data row35 col1\" >False</td>\n",
       "    </tr>\n",
       "    <tr>\n",
       "      <th id=\"T_3e278_level0_row36\" class=\"row_heading level0 row36\" >36</th>\n",
       "      <td id=\"T_3e278_row36_col0\" class=\"data row36 col0\" >Experiment Name</td>\n",
       "      <td id=\"T_3e278_row36_col1\" class=\"data row36 col1\" >clf-default-name</td>\n",
       "    </tr>\n",
       "    <tr>\n",
       "      <th id=\"T_3e278_level0_row37\" class=\"row_heading level0 row37\" >37</th>\n",
       "      <td id=\"T_3e278_row37_col0\" class=\"data row37 col0\" >USI</td>\n",
       "      <td id=\"T_3e278_row37_col1\" class=\"data row37 col1\" >6f22</td>\n",
       "    </tr>\n",
       "  </tbody>\n",
       "</table>\n"
      ],
      "text/plain": [
       "<pandas.io.formats.style.Styler at 0x16e325ea2e0>"
      ]
     },
     "metadata": {},
     "output_type": "display_data"
    }
   ],
   "source": [
    "mod = setup(data_func=load_data, \n",
    "            target = 'isFraud', \n",
    "            session_id =123, \n",
    "            remove_outliers = True,\n",
    "            remove_multicollinearity = True,\n",
    "            data_split_stratify=True,\n",
    "            keep_features = ['type_CASH_IN','type_CASH_OUT','type_PAYMENT','type_DEBIT','type_TRANSFER','isFlaggedFraud'],\n",
    "            ignore_features=['nameOrig', 'nameDest'],\n",
    "            bin_numeric_features = ['amount'],\n",
    "            feature_selection=True,\n",
    "            normalize=True,                    # Normalize the data\n",
    "            transformation=True, \n",
    "        # Apply transformation ( based on skewness)\n",
    "           \n",
    "            fix_imbalance = True\n",
    "           )\n"
   ]
  },
  {
   "cell_type": "markdown",
   "id": "623b0717-2349-4adf-a57b-607bcc36c4fe",
   "metadata": {},
   "source": [
    "BEST MODEL"
   ]
  },
  {
   "cell_type": "code",
   "execution_count": 192,
   "id": "b26404d3-bfcc-4f8d-8de1-23ea3d9ce491",
   "metadata": {},
   "outputs": [
    {
     "data": {
      "text/html": [],
      "text/plain": [
       "<IPython.core.display.HTML object>"
      ]
     },
     "metadata": {},
     "output_type": "display_data"
    },
    {
     "data": {
      "text/html": [
       "<style type=\"text/css\">\n",
       "#T_55351 th {\n",
       "  text-align: left;\n",
       "}\n",
       "#T_55351_row0_col0, #T_55351_row0_col2, #T_55351_row0_col3, #T_55351_row0_col4, #T_55351_row0_col5, #T_55351_row0_col6, #T_55351_row0_col7, #T_55351_row1_col0, #T_55351_row1_col1, #T_55351_row1_col2, #T_55351_row1_col3, #T_55351_row1_col4, #T_55351_row1_col5, #T_55351_row1_col6, #T_55351_row1_col7, #T_55351_row2_col0, #T_55351_row2_col1, #T_55351_row2_col2, #T_55351_row2_col3, #T_55351_row2_col4, #T_55351_row2_col5, #T_55351_row2_col6, #T_55351_row2_col7, #T_55351_row3_col0, #T_55351_row3_col1, #T_55351_row3_col2, #T_55351_row3_col3, #T_55351_row3_col7, #T_55351_row4_col0, #T_55351_row4_col1, #T_55351_row4_col2, #T_55351_row4_col3, #T_55351_row4_col4, #T_55351_row4_col5, #T_55351_row4_col6, #T_55351_row4_col7, #T_55351_row5_col0, #T_55351_row5_col1, #T_55351_row5_col2, #T_55351_row5_col3, #T_55351_row5_col4, #T_55351_row5_col5, #T_55351_row5_col6, #T_55351_row5_col7, #T_55351_row6_col0, #T_55351_row6_col1, #T_55351_row6_col2, #T_55351_row6_col3, #T_55351_row6_col4, #T_55351_row6_col5, #T_55351_row6_col6, #T_55351_row6_col7, #T_55351_row7_col0, #T_55351_row7_col1, #T_55351_row7_col2, #T_55351_row7_col3, #T_55351_row7_col4, #T_55351_row7_col5, #T_55351_row7_col6, #T_55351_row7_col7, #T_55351_row8_col0, #T_55351_row8_col1, #T_55351_row8_col2, #T_55351_row8_col3, #T_55351_row8_col4, #T_55351_row8_col5, #T_55351_row8_col6, #T_55351_row9_col0, #T_55351_row9_col1, #T_55351_row9_col3, #T_55351_row9_col4, #T_55351_row9_col5, #T_55351_row9_col6, #T_55351_row9_col7, #T_55351_row10_col0, #T_55351_row10_col1, #T_55351_row10_col3, #T_55351_row10_col4, #T_55351_row10_col5, #T_55351_row10_col6, #T_55351_row10_col7, #T_55351_row11_col0, #T_55351_row11_col1, #T_55351_row11_col2, #T_55351_row11_col3, #T_55351_row11_col4, #T_55351_row11_col5, #T_55351_row11_col6, #T_55351_row11_col7, #T_55351_row12_col0, #T_55351_row12_col1, #T_55351_row12_col2, #T_55351_row12_col3, #T_55351_row12_col4, #T_55351_row12_col5, #T_55351_row12_col6, #T_55351_row12_col7, #T_55351_row13_col0, #T_55351_row13_col1, #T_55351_row13_col2, #T_55351_row13_col4, #T_55351_row13_col5, #T_55351_row13_col6, #T_55351_row13_col7 {\n",
       "  text-align: left;\n",
       "}\n",
       "#T_55351_row0_col1, #T_55351_row3_col4, #T_55351_row3_col5, #T_55351_row3_col6, #T_55351_row8_col7, #T_55351_row9_col2, #T_55351_row10_col2, #T_55351_row13_col3 {\n",
       "  text-align: left;\n",
       "  background-color: yellow;\n",
       "}\n",
       "#T_55351_row0_col8, #T_55351_row1_col8, #T_55351_row2_col8, #T_55351_row3_col8, #T_55351_row4_col8, #T_55351_row5_col8, #T_55351_row6_col8, #T_55351_row7_col8, #T_55351_row8_col8, #T_55351_row9_col8, #T_55351_row10_col8, #T_55351_row11_col8, #T_55351_row12_col8 {\n",
       "  text-align: left;\n",
       "  background-color: lightgrey;\n",
       "}\n",
       "#T_55351_row13_col8 {\n",
       "  text-align: left;\n",
       "  background-color: yellow;\n",
       "  background-color: lightgrey;\n",
       "}\n",
       "</style>\n",
       "<table id=\"T_55351\">\n",
       "  <thead>\n",
       "    <tr>\n",
       "      <th class=\"blank level0\" >&nbsp;</th>\n",
       "      <th id=\"T_55351_level0_col0\" class=\"col_heading level0 col0\" >Model</th>\n",
       "      <th id=\"T_55351_level0_col1\" class=\"col_heading level0 col1\" >Accuracy</th>\n",
       "      <th id=\"T_55351_level0_col2\" class=\"col_heading level0 col2\" >AUC</th>\n",
       "      <th id=\"T_55351_level0_col3\" class=\"col_heading level0 col3\" >Recall</th>\n",
       "      <th id=\"T_55351_level0_col4\" class=\"col_heading level0 col4\" >Prec.</th>\n",
       "      <th id=\"T_55351_level0_col5\" class=\"col_heading level0 col5\" >F1</th>\n",
       "      <th id=\"T_55351_level0_col6\" class=\"col_heading level0 col6\" >Kappa</th>\n",
       "      <th id=\"T_55351_level0_col7\" class=\"col_heading level0 col7\" >MCC</th>\n",
       "      <th id=\"T_55351_level0_col8\" class=\"col_heading level0 col8\" >TT (Sec)</th>\n",
       "    </tr>\n",
       "  </thead>\n",
       "  <tbody>\n",
       "    <tr>\n",
       "      <th id=\"T_55351_level0_row0\" class=\"row_heading level0 row0\" >dummy</th>\n",
       "      <td id=\"T_55351_row0_col0\" class=\"data row0 col0\" >Dummy Classifier</td>\n",
       "      <td id=\"T_55351_row0_col1\" class=\"data row0 col1\" >0.9987</td>\n",
       "      <td id=\"T_55351_row0_col2\" class=\"data row0 col2\" >0.5000</td>\n",
       "      <td id=\"T_55351_row0_col3\" class=\"data row0 col3\" >0.0000</td>\n",
       "      <td id=\"T_55351_row0_col4\" class=\"data row0 col4\" >0.0000</td>\n",
       "      <td id=\"T_55351_row0_col5\" class=\"data row0 col5\" >0.0000</td>\n",
       "      <td id=\"T_55351_row0_col6\" class=\"data row0 col6\" >0.0000</td>\n",
       "      <td id=\"T_55351_row0_col7\" class=\"data row0 col7\" >0.0000</td>\n",
       "      <td id=\"T_55351_row0_col8\" class=\"data row0 col8\" >30.9190</td>\n",
       "    </tr>\n",
       "    <tr>\n",
       "      <th id=\"T_55351_level0_row1\" class=\"row_heading level0 row1\" >qda</th>\n",
       "      <td id=\"T_55351_row1_col0\" class=\"data row1 col0\" >Quadratic Discriminant Analysis</td>\n",
       "      <td id=\"T_55351_row1_col1\" class=\"data row1 col1\" >0.9981</td>\n",
       "      <td id=\"T_55351_row1_col2\" class=\"data row1 col2\" >0.8737</td>\n",
       "      <td id=\"T_55351_row1_col3\" class=\"data row1 col3\" >0.0045</td>\n",
       "      <td id=\"T_55351_row1_col4\" class=\"data row1 col4\" >0.0018</td>\n",
       "      <td id=\"T_55351_row1_col5\" class=\"data row1 col5\" >0.0026</td>\n",
       "      <td id=\"T_55351_row1_col6\" class=\"data row1 col6\" >0.0022</td>\n",
       "      <td id=\"T_55351_row1_col7\" class=\"data row1 col7\" >0.0024</td>\n",
       "      <td id=\"T_55351_row1_col8\" class=\"data row1 col8\" >30.8670</td>\n",
       "    </tr>\n",
       "    <tr>\n",
       "      <th id=\"T_55351_level0_row2\" class=\"row_heading level0 row2\" >dt</th>\n",
       "      <td id=\"T_55351_row2_col0\" class=\"data row2 col0\" >Decision Tree Classifier</td>\n",
       "      <td id=\"T_55351_row2_col1\" class=\"data row2 col1\" >0.9759</td>\n",
       "      <td id=\"T_55351_row2_col2\" class=\"data row2 col2\" >0.6194</td>\n",
       "      <td id=\"T_55351_row2_col3\" class=\"data row2 col3\" >0.2620</td>\n",
       "      <td id=\"T_55351_row2_col4\" class=\"data row2 col4\" >0.0141</td>\n",
       "      <td id=\"T_55351_row2_col5\" class=\"data row2 col5\" >0.0267</td>\n",
       "      <td id=\"T_55351_row2_col6\" class=\"data row2 col6\" >0.0243</td>\n",
       "      <td id=\"T_55351_row2_col7\" class=\"data row2 col7\" >0.0559</td>\n",
       "      <td id=\"T_55351_row2_col8\" class=\"data row2 col8\" >16.8600</td>\n",
       "    </tr>\n",
       "    <tr>\n",
       "      <th id=\"T_55351_level0_row3\" class=\"row_heading level0 row3\" >et</th>\n",
       "      <td id=\"T_55351_row3_col0\" class=\"data row3 col0\" >Extra Trees Classifier</td>\n",
       "      <td id=\"T_55351_row3_col1\" class=\"data row3 col1\" >0.9743</td>\n",
       "      <td id=\"T_55351_row3_col2\" class=\"data row3 col2\" >0.9018</td>\n",
       "      <td id=\"T_55351_row3_col3\" class=\"data row3 col3\" >0.3398</td>\n",
       "      <td id=\"T_55351_row3_col4\" class=\"data row3 col4\" >0.0170</td>\n",
       "      <td id=\"T_55351_row3_col5\" class=\"data row3 col5\" >0.0324</td>\n",
       "      <td id=\"T_55351_row3_col6\" class=\"data row3 col6\" >0.0301</td>\n",
       "      <td id=\"T_55351_row3_col7\" class=\"data row3 col7\" >0.0714</td>\n",
       "      <td id=\"T_55351_row3_col8\" class=\"data row3 col8\" >72.5290</td>\n",
       "    </tr>\n",
       "    <tr>\n",
       "      <th id=\"T_55351_level0_row4\" class=\"row_heading level0 row4\" >rf</th>\n",
       "      <td id=\"T_55351_row4_col0\" class=\"data row4 col0\" >Random Forest Classifier</td>\n",
       "      <td id=\"T_55351_row4_col1\" class=\"data row4 col1\" >0.9688</td>\n",
       "      <td id=\"T_55351_row4_col2\" class=\"data row4 col2\" >0.8519</td>\n",
       "      <td id=\"T_55351_row4_col3\" class=\"data row4 col3\" >0.3206</td>\n",
       "      <td id=\"T_55351_row4_col4\" class=\"data row4 col4\" >0.0132</td>\n",
       "      <td id=\"T_55351_row4_col5\" class=\"data row4 col5\" >0.0254</td>\n",
       "      <td id=\"T_55351_row4_col6\" class=\"data row4 col6\" >0.0230</td>\n",
       "      <td id=\"T_55351_row4_col7\" class=\"data row4 col7\" >0.0598</td>\n",
       "      <td id=\"T_55351_row4_col8\" class=\"data row4 col8\" >127.0870</td>\n",
       "    </tr>\n",
       "    <tr>\n",
       "      <th id=\"T_55351_level0_row5\" class=\"row_heading level0 row5\" >knn</th>\n",
       "      <td id=\"T_55351_row5_col0\" class=\"data row5 col0\" >K Neighbors Classifier</td>\n",
       "      <td id=\"T_55351_row5_col1\" class=\"data row5 col1\" >0.9406</td>\n",
       "      <td id=\"T_55351_row5_col2\" class=\"data row5 col2\" >0.7418</td>\n",
       "      <td id=\"T_55351_row5_col3\" class=\"data row5 col3\" >0.4867</td>\n",
       "      <td id=\"T_55351_row5_col4\" class=\"data row5 col4\" >0.0104</td>\n",
       "      <td id=\"T_55351_row5_col5\" class=\"data row5 col5\" >0.0203</td>\n",
       "      <td id=\"T_55351_row5_col6\" class=\"data row5 col6\" >0.0179</td>\n",
       "      <td id=\"T_55351_row5_col7\" class=\"data row5 col7\" >0.0643</td>\n",
       "      <td id=\"T_55351_row5_col8\" class=\"data row5 col8\" >26.7920</td>\n",
       "    </tr>\n",
       "    <tr>\n",
       "      <th id=\"T_55351_level0_row6\" class=\"row_heading level0 row6\" >lightgbm</th>\n",
       "      <td id=\"T_55351_row6_col0\" class=\"data row6 col0\" >Light Gradient Boosting Machine</td>\n",
       "      <td id=\"T_55351_row6_col1\" class=\"data row6 col1\" >0.9225</td>\n",
       "      <td id=\"T_55351_row6_col2\" class=\"data row6 col2\" >0.9264</td>\n",
       "      <td id=\"T_55351_row6_col3\" class=\"data row6 col3\" >0.6219</td>\n",
       "      <td id=\"T_55351_row6_col4\" class=\"data row6 col4\" >0.0101</td>\n",
       "      <td id=\"T_55351_row6_col5\" class=\"data row6 col5\" >0.0199</td>\n",
       "      <td id=\"T_55351_row6_col6\" class=\"data row6 col6\" >0.0175</td>\n",
       "      <td id=\"T_55351_row6_col7\" class=\"data row6 col7\" >0.0723</td>\n",
       "      <td id=\"T_55351_row6_col8\" class=\"data row6 col8\" >38.9120</td>\n",
       "    </tr>\n",
       "    <tr>\n",
       "      <th id=\"T_55351_level0_row7\" class=\"row_heading level0 row7\" >ada</th>\n",
       "      <td id=\"T_55351_row7_col0\" class=\"data row7 col0\" >Ada Boost Classifier</td>\n",
       "      <td id=\"T_55351_row7_col1\" class=\"data row7 col1\" >0.9055</td>\n",
       "      <td id=\"T_55351_row7_col2\" class=\"data row7 col2\" >0.8808</td>\n",
       "      <td id=\"T_55351_row7_col3\" class=\"data row7 col3\" >0.6624</td>\n",
       "      <td id=\"T_55351_row7_col4\" class=\"data row7 col4\" >0.0088</td>\n",
       "      <td id=\"T_55351_row7_col5\" class=\"data row7 col5\" >0.0175</td>\n",
       "      <td id=\"T_55351_row7_col6\" class=\"data row7 col6\" >0.0150</td>\n",
       "      <td id=\"T_55351_row7_col7\" class=\"data row7 col7\" >0.0690</td>\n",
       "      <td id=\"T_55351_row7_col8\" class=\"data row7 col8\" >67.9660</td>\n",
       "    </tr>\n",
       "    <tr>\n",
       "      <th id=\"T_55351_level0_row8\" class=\"row_heading level0 row8\" >gbc</th>\n",
       "      <td id=\"T_55351_row8_col0\" class=\"data row8 col0\" >Gradient Boosting Classifier</td>\n",
       "      <td id=\"T_55351_row8_col1\" class=\"data row8 col1\" >0.9042</td>\n",
       "      <td id=\"T_55351_row8_col2\" class=\"data row8 col2\" >0.9593</td>\n",
       "      <td id=\"T_55351_row8_col3\" class=\"data row8 col3\" >0.8613</td>\n",
       "      <td id=\"T_55351_row8_col4\" class=\"data row8 col4\" >0.0113</td>\n",
       "      <td id=\"T_55351_row8_col5\" class=\"data row8 col5\" >0.0222</td>\n",
       "      <td id=\"T_55351_row8_col6\" class=\"data row8 col6\" >0.0198</td>\n",
       "      <td id=\"T_55351_row8_col7\" class=\"data row8 col7\" >0.0921</td>\n",
       "      <td id=\"T_55351_row8_col8\" class=\"data row8 col8\" >171.5490</td>\n",
       "    </tr>\n",
       "    <tr>\n",
       "      <th id=\"T_55351_level0_row9\" class=\"row_heading level0 row9\" >lr</th>\n",
       "      <td id=\"T_55351_row9_col0\" class=\"data row9 col0\" >Logistic Regression</td>\n",
       "      <td id=\"T_55351_row9_col1\" class=\"data row9 col1\" >0.8676</td>\n",
       "      <td id=\"T_55351_row9_col2\" class=\"data row9 col2\" >0.9765</td>\n",
       "      <td id=\"T_55351_row9_col3\" class=\"data row9 col3\" >0.9572</td>\n",
       "      <td id=\"T_55351_row9_col4\" class=\"data row9 col4\" >0.0091</td>\n",
       "      <td id=\"T_55351_row9_col5\" class=\"data row9 col5\" >0.0180</td>\n",
       "      <td id=\"T_55351_row9_col6\" class=\"data row9 col6\" >0.0155</td>\n",
       "      <td id=\"T_55351_row9_col7\" class=\"data row9 col7\" >0.0862</td>\n",
       "      <td id=\"T_55351_row9_col8\" class=\"data row9 col8\" >15.7590</td>\n",
       "    </tr>\n",
       "    <tr>\n",
       "      <th id=\"T_55351_level0_row10\" class=\"row_heading level0 row10\" >svm</th>\n",
       "      <td id=\"T_55351_row10_col0\" class=\"data row10 col0\" >SVM - Linear Kernel</td>\n",
       "      <td id=\"T_55351_row10_col1\" class=\"data row10 col1\" >0.8504</td>\n",
       "      <td id=\"T_55351_row10_col2\" class=\"data row10 col2\" >0.9765</td>\n",
       "      <td id=\"T_55351_row10_col3\" class=\"data row10 col3\" >0.9617</td>\n",
       "      <td id=\"T_55351_row10_col4\" class=\"data row10 col4\" >0.0081</td>\n",
       "      <td id=\"T_55351_row10_col5\" class=\"data row10 col5\" >0.0160</td>\n",
       "      <td id=\"T_55351_row10_col6\" class=\"data row10 col6\" >0.0136</td>\n",
       "      <td id=\"T_55351_row10_col7\" class=\"data row10 col7\" >0.0807</td>\n",
       "      <td id=\"T_55351_row10_col8\" class=\"data row10 col8\" >14.7140</td>\n",
       "    </tr>\n",
       "    <tr>\n",
       "      <th id=\"T_55351_level0_row11\" class=\"row_heading level0 row11\" >ridge</th>\n",
       "      <td id=\"T_55351_row11_col0\" class=\"data row11 col0\" >Ridge Classifier</td>\n",
       "      <td id=\"T_55351_row11_col1\" class=\"data row11 col1\" >0.8102</td>\n",
       "      <td id=\"T_55351_row11_col2\" class=\"data row11 col2\" >0.9747</td>\n",
       "      <td id=\"T_55351_row11_col3\" class=\"data row11 col3\" >0.9775</td>\n",
       "      <td id=\"T_55351_row11_col4\" class=\"data row11 col4\" >0.0065</td>\n",
       "      <td id=\"T_55351_row11_col5\" class=\"data row11 col5\" >0.0129</td>\n",
       "      <td id=\"T_55351_row11_col6\" class=\"data row11 col6\" >0.0104</td>\n",
       "      <td id=\"T_55351_row11_col7\" class=\"data row11 col7\" >0.0712</td>\n",
       "      <td id=\"T_55351_row11_col8\" class=\"data row11 col8\" >14.3030</td>\n",
       "    </tr>\n",
       "    <tr>\n",
       "      <th id=\"T_55351_level0_row12\" class=\"row_heading level0 row12\" >lda</th>\n",
       "      <td id=\"T_55351_row12_col0\" class=\"data row12 col0\" >Linear Discriminant Analysis</td>\n",
       "      <td id=\"T_55351_row12_col1\" class=\"data row12 col1\" >0.8102</td>\n",
       "      <td id=\"T_55351_row12_col2\" class=\"data row12 col2\" >0.9747</td>\n",
       "      <td id=\"T_55351_row12_col3\" class=\"data row12 col3\" >0.9775</td>\n",
       "      <td id=\"T_55351_row12_col4\" class=\"data row12 col4\" >0.0065</td>\n",
       "      <td id=\"T_55351_row12_col5\" class=\"data row12 col5\" >0.0129</td>\n",
       "      <td id=\"T_55351_row12_col6\" class=\"data row12 col6\" >0.0104</td>\n",
       "      <td id=\"T_55351_row12_col7\" class=\"data row12 col7\" >0.0712</td>\n",
       "      <td id=\"T_55351_row12_col8\" class=\"data row12 col8\" >30.9470</td>\n",
       "    </tr>\n",
       "    <tr>\n",
       "      <th id=\"T_55351_level0_row13\" class=\"row_heading level0 row13\" >nb</th>\n",
       "      <td id=\"T_55351_row13_col0\" class=\"data row13 col0\" >Naive Bayes</td>\n",
       "      <td id=\"T_55351_row13_col1\" class=\"data row13 col1\" >0.5662</td>\n",
       "      <td id=\"T_55351_row13_col2\" class=\"data row13 col2\" >0.9273</td>\n",
       "      <td id=\"T_55351_row13_col3\" class=\"data row13 col3\" >1.0000</td>\n",
       "      <td id=\"T_55351_row13_col4\" class=\"data row13 col4\" >0.0029</td>\n",
       "      <td id=\"T_55351_row13_col5\" class=\"data row13 col5\" >0.0058</td>\n",
       "      <td id=\"T_55351_row13_col6\" class=\"data row13 col6\" >0.0033</td>\n",
       "      <td id=\"T_55351_row13_col7\" class=\"data row13 col7\" >0.0406</td>\n",
       "      <td id=\"T_55351_row13_col8\" class=\"data row13 col8\" >14.2310</td>\n",
       "    </tr>\n",
       "  </tbody>\n",
       "</table>\n"
      ],
      "text/plain": [
       "<pandas.io.formats.style.Styler at 0x16e355ee070>"
      ]
     },
     "metadata": {},
     "output_type": "display_data"
    },
    {
     "data": {
      "text/html": [],
      "text/plain": [
       "<IPython.core.display.HTML object>"
      ]
     },
     "metadata": {},
     "output_type": "display_data"
    }
   ],
   "source": [
    "best_model = compare_models()"
   ]
  },
  {
   "cell_type": "code",
   "execution_count": 196,
   "id": "61ef5701-e5b2-4160-8f02-ecf7c66beb60",
   "metadata": {},
   "outputs": [
    {
     "name": "stdout",
     "output_type": "stream",
     "text": [
      "DummyClassifier(constant=None, random_state=123, strategy='prior')\n"
     ]
    }
   ],
   "source": [
    "print(best_model)\n"
   ]
  },
  {
   "cell_type": "markdown",
   "id": "0c7b18af-9bbe-4b84-9750-ab4555692e6c",
   "metadata": {},
   "source": [
    "The best model in pycaret is calculated only considering accuraccy, but we shall conisder all the parameters according to which the best model is gbc"
   ]
  },
  {
   "cell_type": "markdown",
   "id": "3d263a5d-a288-4d28-b1f4-d7711dca77cd",
   "metadata": {},
   "source": [
    "## Considering smaller chunk"
   ]
  },
  {
   "cell_type": "code",
   "execution_count": 200,
   "id": "9b9a3a41-18cd-4732-8ffc-520b3e80e7ed",
   "metadata": {},
   "outputs": [
    {
     "name": "stdout",
     "output_type": "stream",
     "text": [
      "         step      type      amount     nameOrig  oldbalanceOrg  \\\n",
      "3737323   278   CASH_IN   330218.42   C632336343       20866.00   \n",
      "264914     15   PAYMENT    11647.08  C1264712553       30370.00   \n",
      "85647      10   CASH_IN   152264.21  C1746846248      106589.00   \n",
      "5899326   403  TRANSFER  1551760.63   C333676753           0.00   \n",
      "2544263   206   CASH_IN    78172.30   C813403091     2921331.58   \n",
      "\n",
      "         newbalanceOrig     nameDest  oldbalanceDest  newbalanceDest  isFraud  \\\n",
      "3737323       351084.42   C834976624       452419.57       122201.15        0   \n",
      "264914         18722.92   M215391829            0.00            0.00        0   \n",
      "85647         258853.21  C1607284477       201303.01        49038.80        0   \n",
      "5899326            0.00  C1564353608      3198359.45      4750120.08        0   \n",
      "2544263      2999503.88  C1091768874       415821.90       337649.60        0   \n",
      "\n",
      "         isFlaggedFraud  \n",
      "3737323               0  \n",
      "264914                0  \n",
      "85647                 0  \n",
      "5899326               0  \n",
      "2544263               0  \n"
     ]
    }
   ],
   "source": [
    "data_small = pd.read_csv(r\"C:\\Users\\Admin\\Downloads\\Fraud.csv\")\n",
    "\n",
    "# Randomly sample 10,000 rows\n",
    "random_sample = data_small.sample(n=100000, random_state=42)\n",
    "\n",
    "# Check the sample\n",
    "print(random_sample.head())\n",
    "data_s = random_sample\n"
   ]
  },
  {
   "cell_type": "code",
   "execution_count": 201,
   "id": "0ba98e96-db32-4972-9c71-5b9d07529621",
   "metadata": {},
   "outputs": [
    {
     "data": {
      "text/plain": [
       "isFraud\n",
       "0    99859\n",
       "1      141\n",
       "Name: count, dtype: int64"
      ]
     },
     "execution_count": 201,
     "metadata": {},
     "output_type": "execute_result"
    }
   ],
   "source": [
    "##### taking n = 100000\n",
    "data_s['isFraud'].value_counts()"
   ]
  },
  {
   "cell_type": "code",
   "execution_count": 202,
   "id": "4de105a2-bcf9-4372-9ed8-343c1fbcd644",
   "metadata": {},
   "outputs": [
    {
     "data": {
      "text/plain": [
       "step                int64\n",
       "type               object\n",
       "amount            float64\n",
       "nameOrig           object\n",
       "oldbalanceOrg     float64\n",
       "newbalanceOrig    float64\n",
       "nameDest           object\n",
       "oldbalanceDest    float64\n",
       "newbalanceDest    float64\n",
       "isFraud             int64\n",
       "isFlaggedFraud      int32\n",
       "dtype: object"
      ]
     },
     "execution_count": 202,
     "metadata": {},
     "output_type": "execute_result"
    }
   ],
   "source": [
    "data_s['isFlaggedFraud'] = data_small['isFlaggedFraud'].astype(int)\n",
    "data_s.dtypes"
   ]
  },
  {
   "cell_type": "code",
   "execution_count": 203,
   "id": "7611e0f0-a874-4905-955e-448ede40d7d5",
   "metadata": {},
   "outputs": [
    {
     "name": "stdout",
     "output_type": "stream",
     "text": [
      "Unique values in 'type' column: ['CASH_IN' 'PAYMENT' 'TRANSFER' 'CASH_OUT' 'DEBIT']\n"
     ]
    }
   ],
   "source": [
    "unique_types = data_s['type'].unique()\n",
    "print(\"Unique values in 'type' column:\", unique_types)"
   ]
  },
  {
   "cell_type": "code",
   "execution_count": 204,
   "id": "3bd10d90-37db-4d86-830c-ee9c1765fc03",
   "metadata": {},
   "outputs": [],
   "source": [
    "data_onehot_s = pd.get_dummies(data_s, columns=['type'], drop_first=False)"
   ]
  },
  {
   "cell_type": "code",
   "execution_count": 205,
   "id": "9886c8c8-01b9-4a7b-9e04-0688d5227ef9",
   "metadata": {},
   "outputs": [
    {
     "data": {
      "text/plain": [
       "step              0\n",
       "amount            0\n",
       "nameOrig          0\n",
       "oldbalanceOrg     0\n",
       "newbalanceOrig    0\n",
       "nameDest          0\n",
       "oldbalanceDest    0\n",
       "newbalanceDest    0\n",
       "isFraud           0\n",
       "isFlaggedFraud    0\n",
       "type_CASH_IN      0\n",
       "type_CASH_OUT     0\n",
       "type_DEBIT        0\n",
       "type_PAYMENT      0\n",
       "type_TRANSFER     0\n",
       "dtype: int64"
      ]
     },
     "execution_count": 205,
     "metadata": {},
     "output_type": "execute_result"
    }
   ],
   "source": [
    "data_onehot_s.isnull().sum()"
   ]
  },
  {
   "cell_type": "code",
   "execution_count": 206,
   "id": "4d8cd144-a1f5-48a9-9d3e-f60cc14cceb4",
   "metadata": {},
   "outputs": [
    {
     "data": {
      "text/html": [
       "<div>\n",
       "<style scoped>\n",
       "    .dataframe tbody tr th:only-of-type {\n",
       "        vertical-align: middle;\n",
       "    }\n",
       "\n",
       "    .dataframe tbody tr th {\n",
       "        vertical-align: top;\n",
       "    }\n",
       "\n",
       "    .dataframe thead th {\n",
       "        text-align: right;\n",
       "    }\n",
       "</style>\n",
       "<table border=\"1\" class=\"dataframe\">\n",
       "  <thead>\n",
       "    <tr style=\"text-align: right;\">\n",
       "      <th></th>\n",
       "      <th>step</th>\n",
       "      <th>amount</th>\n",
       "      <th>nameOrig</th>\n",
       "      <th>oldbalanceOrg</th>\n",
       "      <th>newbalanceOrig</th>\n",
       "      <th>nameDest</th>\n",
       "      <th>oldbalanceDest</th>\n",
       "      <th>newbalanceDest</th>\n",
       "      <th>isFraud</th>\n",
       "      <th>isFlaggedFraud</th>\n",
       "      <th>type_CASH_IN</th>\n",
       "      <th>type_CASH_OUT</th>\n",
       "      <th>type_DEBIT</th>\n",
       "      <th>type_PAYMENT</th>\n",
       "      <th>type_TRANSFER</th>\n",
       "    </tr>\n",
       "  </thead>\n",
       "  <tbody>\n",
       "    <tr>\n",
       "      <th>3737323</th>\n",
       "      <td>278</td>\n",
       "      <td>330218.42</td>\n",
       "      <td>C632336343</td>\n",
       "      <td>20866.00</td>\n",
       "      <td>351084.42</td>\n",
       "      <td>C834976624</td>\n",
       "      <td>452419.57</td>\n",
       "      <td>122201.15</td>\n",
       "      <td>0</td>\n",
       "      <td>0</td>\n",
       "      <td>True</td>\n",
       "      <td>False</td>\n",
       "      <td>False</td>\n",
       "      <td>False</td>\n",
       "      <td>False</td>\n",
       "    </tr>\n",
       "    <tr>\n",
       "      <th>264914</th>\n",
       "      <td>15</td>\n",
       "      <td>11647.08</td>\n",
       "      <td>C1264712553</td>\n",
       "      <td>30370.00</td>\n",
       "      <td>18722.92</td>\n",
       "      <td>M215391829</td>\n",
       "      <td>0.00</td>\n",
       "      <td>0.00</td>\n",
       "      <td>0</td>\n",
       "      <td>0</td>\n",
       "      <td>False</td>\n",
       "      <td>False</td>\n",
       "      <td>False</td>\n",
       "      <td>True</td>\n",
       "      <td>False</td>\n",
       "    </tr>\n",
       "    <tr>\n",
       "      <th>85647</th>\n",
       "      <td>10</td>\n",
       "      <td>152264.21</td>\n",
       "      <td>C1746846248</td>\n",
       "      <td>106589.00</td>\n",
       "      <td>258853.21</td>\n",
       "      <td>C1607284477</td>\n",
       "      <td>201303.01</td>\n",
       "      <td>49038.80</td>\n",
       "      <td>0</td>\n",
       "      <td>0</td>\n",
       "      <td>True</td>\n",
       "      <td>False</td>\n",
       "      <td>False</td>\n",
       "      <td>False</td>\n",
       "      <td>False</td>\n",
       "    </tr>\n",
       "    <tr>\n",
       "      <th>5899326</th>\n",
       "      <td>403</td>\n",
       "      <td>1551760.63</td>\n",
       "      <td>C333676753</td>\n",
       "      <td>0.00</td>\n",
       "      <td>0.00</td>\n",
       "      <td>C1564353608</td>\n",
       "      <td>3198359.45</td>\n",
       "      <td>4750120.08</td>\n",
       "      <td>0</td>\n",
       "      <td>0</td>\n",
       "      <td>False</td>\n",
       "      <td>False</td>\n",
       "      <td>False</td>\n",
       "      <td>False</td>\n",
       "      <td>True</td>\n",
       "    </tr>\n",
       "    <tr>\n",
       "      <th>2544263</th>\n",
       "      <td>206</td>\n",
       "      <td>78172.30</td>\n",
       "      <td>C813403091</td>\n",
       "      <td>2921331.58</td>\n",
       "      <td>2999503.88</td>\n",
       "      <td>C1091768874</td>\n",
       "      <td>415821.90</td>\n",
       "      <td>337649.60</td>\n",
       "      <td>0</td>\n",
       "      <td>0</td>\n",
       "      <td>True</td>\n",
       "      <td>False</td>\n",
       "      <td>False</td>\n",
       "      <td>False</td>\n",
       "      <td>False</td>\n",
       "    </tr>\n",
       "  </tbody>\n",
       "</table>\n",
       "</div>"
      ],
      "text/plain": [
       "         step      amount     nameOrig  oldbalanceOrg  newbalanceOrig  \\\n",
       "3737323   278   330218.42   C632336343       20866.00       351084.42   \n",
       "264914     15    11647.08  C1264712553       30370.00        18722.92   \n",
       "85647      10   152264.21  C1746846248      106589.00       258853.21   \n",
       "5899326   403  1551760.63   C333676753           0.00            0.00   \n",
       "2544263   206    78172.30   C813403091     2921331.58      2999503.88   \n",
       "\n",
       "            nameDest  oldbalanceDest  newbalanceDest  isFraud  isFlaggedFraud  \\\n",
       "3737323   C834976624       452419.57       122201.15        0               0   \n",
       "264914    M215391829            0.00            0.00        0               0   \n",
       "85647    C1607284477       201303.01        49038.80        0               0   \n",
       "5899326  C1564353608      3198359.45      4750120.08        0               0   \n",
       "2544263  C1091768874       415821.90       337649.60        0               0   \n",
       "\n",
       "         type_CASH_IN  type_CASH_OUT  type_DEBIT  type_PAYMENT  type_TRANSFER  \n",
       "3737323          True          False       False         False          False  \n",
       "264914          False          False       False          True          False  \n",
       "85647            True          False       False         False          False  \n",
       "5899326         False          False       False         False           True  \n",
       "2544263          True          False       False         False          False  "
      ]
     },
     "execution_count": 206,
     "metadata": {},
     "output_type": "execute_result"
    }
   ],
   "source": [
    "data_onehot_s.head()"
   ]
  },
  {
   "cell_type": "code",
   "execution_count": 185,
   "id": "b97b170d-02f1-40e8-953a-b87425030512",
   "metadata": {},
   "outputs": [],
   "source": [
    "def load_data():\n",
    "    return data\n",
    "#Due to high computation, data function is used"
   ]
  },
  {
   "cell_type": "code",
   "execution_count": 207,
   "id": "4e48e7e0-87e1-4f0f-ae93-c5d30cd36fce",
   "metadata": {},
   "outputs": [
    {
     "data": {
      "text/html": [
       "<div>\n",
       "<style scoped>\n",
       "    .dataframe tbody tr th:only-of-type {\n",
       "        vertical-align: middle;\n",
       "    }\n",
       "\n",
       "    .dataframe tbody tr th {\n",
       "        vertical-align: top;\n",
       "    }\n",
       "\n",
       "    .dataframe thead th {\n",
       "        text-align: right;\n",
       "    }\n",
       "</style>\n",
       "<table border=\"1\" class=\"dataframe\">\n",
       "  <thead>\n",
       "    <tr style=\"text-align: right;\">\n",
       "      <th></th>\n",
       "      <th>step</th>\n",
       "      <th>amount</th>\n",
       "      <th>oldbalanceOrg</th>\n",
       "      <th>newbalanceOrig</th>\n",
       "      <th>oldbalanceDest</th>\n",
       "      <th>newbalanceDest</th>\n",
       "      <th>isFraud</th>\n",
       "      <th>isFlaggedFraud</th>\n",
       "    </tr>\n",
       "  </thead>\n",
       "  <tbody>\n",
       "    <tr>\n",
       "      <th>count</th>\n",
       "      <td>100000.000000</td>\n",
       "      <td>1.000000e+05</td>\n",
       "      <td>1.000000e+05</td>\n",
       "      <td>1.000000e+05</td>\n",
       "      <td>1.000000e+05</td>\n",
       "      <td>1.000000e+05</td>\n",
       "      <td>100000.000000</td>\n",
       "      <td>100000.000000</td>\n",
       "    </tr>\n",
       "    <tr>\n",
       "      <th>mean</th>\n",
       "      <td>243.709070</td>\n",
       "      <td>1.805811e+05</td>\n",
       "      <td>8.366804e+05</td>\n",
       "      <td>8.582234e+05</td>\n",
       "      <td>1.104193e+06</td>\n",
       "      <td>1.230055e+06</td>\n",
       "      <td>0.001410</td>\n",
       "      <td>0.000010</td>\n",
       "    </tr>\n",
       "    <tr>\n",
       "      <th>std</th>\n",
       "      <td>142.518613</td>\n",
       "      <td>5.586699e+05</td>\n",
       "      <td>2.901104e+06</td>\n",
       "      <td>2.936799e+06</td>\n",
       "      <td>3.223011e+06</td>\n",
       "      <td>3.475326e+06</td>\n",
       "      <td>0.037524</td>\n",
       "      <td>0.003162</td>\n",
       "    </tr>\n",
       "    <tr>\n",
       "      <th>min</th>\n",
       "      <td>1.000000</td>\n",
       "      <td>9.200000e-01</td>\n",
       "      <td>0.000000e+00</td>\n",
       "      <td>0.000000e+00</td>\n",
       "      <td>0.000000e+00</td>\n",
       "      <td>0.000000e+00</td>\n",
       "      <td>0.000000</td>\n",
       "      <td>0.000000</td>\n",
       "    </tr>\n",
       "    <tr>\n",
       "      <th>25%</th>\n",
       "      <td>156.000000</td>\n",
       "      <td>1.350821e+04</td>\n",
       "      <td>0.000000e+00</td>\n",
       "      <td>0.000000e+00</td>\n",
       "      <td>0.000000e+00</td>\n",
       "      <td>0.000000e+00</td>\n",
       "      <td>0.000000</td>\n",
       "      <td>0.000000</td>\n",
       "    </tr>\n",
       "    <tr>\n",
       "      <th>50%</th>\n",
       "      <td>240.000000</td>\n",
       "      <td>7.603086e+04</td>\n",
       "      <td>1.393850e+04</td>\n",
       "      <td>0.000000e+00</td>\n",
       "      <td>1.387482e+05</td>\n",
       "      <td>2.185786e+05</td>\n",
       "      <td>0.000000</td>\n",
       "      <td>0.000000</td>\n",
       "    </tr>\n",
       "    <tr>\n",
       "      <th>75%</th>\n",
       "      <td>335.000000</td>\n",
       "      <td>2.091130e+05</td>\n",
       "      <td>1.070771e+05</td>\n",
       "      <td>1.464169e+05</td>\n",
       "      <td>9.605963e+05</td>\n",
       "      <td>1.126011e+06</td>\n",
       "      <td>0.000000</td>\n",
       "      <td>0.000000</td>\n",
       "    </tr>\n",
       "    <tr>\n",
       "      <th>max</th>\n",
       "      <td>736.000000</td>\n",
       "      <td>3.697390e+07</td>\n",
       "      <td>3.359321e+07</td>\n",
       "      <td>3.388709e+07</td>\n",
       "      <td>2.362896e+08</td>\n",
       "      <td>2.724047e+08</td>\n",
       "      <td>1.000000</td>\n",
       "      <td>1.000000</td>\n",
       "    </tr>\n",
       "  </tbody>\n",
       "</table>\n",
       "</div>"
      ],
      "text/plain": [
       "                step        amount  oldbalanceOrg  newbalanceOrig  \\\n",
       "count  100000.000000  1.000000e+05   1.000000e+05    1.000000e+05   \n",
       "mean      243.709070  1.805811e+05   8.366804e+05    8.582234e+05   \n",
       "std       142.518613  5.586699e+05   2.901104e+06    2.936799e+06   \n",
       "min         1.000000  9.200000e-01   0.000000e+00    0.000000e+00   \n",
       "25%       156.000000  1.350821e+04   0.000000e+00    0.000000e+00   \n",
       "50%       240.000000  7.603086e+04   1.393850e+04    0.000000e+00   \n",
       "75%       335.000000  2.091130e+05   1.070771e+05    1.464169e+05   \n",
       "max       736.000000  3.697390e+07   3.359321e+07    3.388709e+07   \n",
       "\n",
       "       oldbalanceDest  newbalanceDest        isFraud  isFlaggedFraud  \n",
       "count    1.000000e+05    1.000000e+05  100000.000000   100000.000000  \n",
       "mean     1.104193e+06    1.230055e+06       0.001410        0.000010  \n",
       "std      3.223011e+06    3.475326e+06       0.037524        0.003162  \n",
       "min      0.000000e+00    0.000000e+00       0.000000        0.000000  \n",
       "25%      0.000000e+00    0.000000e+00       0.000000        0.000000  \n",
       "50%      1.387482e+05    2.185786e+05       0.000000        0.000000  \n",
       "75%      9.605963e+05    1.126011e+06       0.000000        0.000000  \n",
       "max      2.362896e+08    2.724047e+08       1.000000        1.000000  "
      ]
     },
     "execution_count": 207,
     "metadata": {},
     "output_type": "execute_result"
    }
   ],
   "source": [
    "data1 = data_onehot_s\n",
    "data1.describe()"
   ]
  },
  {
   "cell_type": "code",
   "execution_count": 208,
   "id": "c6063c8d-46c9-4391-9868-45e771b54d1a",
   "metadata": {},
   "outputs": [
    {
     "name": "stdout",
     "output_type": "stream",
     "text": [
      "<class 'pandas.core.frame.DataFrame'>\n",
      "Index: 100000 entries, 3737323 to 6142173\n",
      "Data columns (total 15 columns):\n",
      " #   Column          Non-Null Count   Dtype  \n",
      "---  ------          --------------   -----  \n",
      " 0   step            100000 non-null  int64  \n",
      " 1   amount          100000 non-null  float64\n",
      " 2   nameOrig        100000 non-null  object \n",
      " 3   oldbalanceOrg   100000 non-null  float64\n",
      " 4   newbalanceOrig  100000 non-null  float64\n",
      " 5   nameDest        100000 non-null  object \n",
      " 6   oldbalanceDest  100000 non-null  float64\n",
      " 7   newbalanceDest  100000 non-null  float64\n",
      " 8   isFraud         100000 non-null  int64  \n",
      " 9   isFlaggedFraud  100000 non-null  int32  \n",
      " 10  type_CASH_IN    100000 non-null  bool   \n",
      " 11  type_CASH_OUT   100000 non-null  bool   \n",
      " 12  type_DEBIT      100000 non-null  bool   \n",
      " 13  type_PAYMENT    100000 non-null  bool   \n",
      " 14  type_TRANSFER   100000 non-null  bool   \n",
      "dtypes: bool(5), float64(5), int32(1), int64(2), object(2)\n",
      "memory usage: 8.5+ MB\n"
     ]
    }
   ],
   "source": [
    "data1.info()"
   ]
  },
  {
   "cell_type": "code",
   "execution_count": 209,
   "id": "e4fa8f31-5599-47ef-a99d-b1dedb115b75",
   "metadata": {},
   "outputs": [
    {
     "data": {
      "text/plain": [
       "isFlaggedFraud\n",
       "0    99999\n",
       "1        1\n",
       "Name: count, dtype: int64"
      ]
     },
     "execution_count": 209,
     "metadata": {},
     "output_type": "execute_result"
    }
   ],
   "source": [
    "data1['isFlaggedFraud'].value_counts()"
   ]
  },
  {
   "cell_type": "code",
   "execution_count": 210,
   "id": "ff70fbaa-7c6a-4068-911a-e5f867f38397",
   "metadata": {},
   "outputs": [],
   "source": [
    "data1['isFlaggedFraud'] = data1['isFlaggedFraud'].astype('category')\n",
    "def load():\n",
    "    return data1"
   ]
  },
  {
   "cell_type": "markdown",
   "id": "ed6f9e8a-6a62-4b20-a47e-7ac13f90d7d4",
   "metadata": {},
   "source": [
    "Data cleaning including missing values, outliers and multicollinearity"
   ]
  },
  {
   "cell_type": "markdown",
   "id": "35cdc8c3-7d63-4550-95d7-63073c39e35e",
   "metadata": {},
   "source": [
    "SETUP"
   ]
  },
  {
   "cell_type": "code",
   "execution_count": 211,
   "id": "023bbb1a-e4a7-4cd8-9ff7-15d7fca20416",
   "metadata": {},
   "outputs": [
    {
     "data": {
      "text/html": [
       "<style type=\"text/css\">\n",
       "#T_26eac_row11_col1, #T_26eac_row17_col1, #T_26eac_row19_col1, #T_26eac_row21_col1, #T_26eac_row23_col1, #T_26eac_row25_col1, #T_26eac_row27_col1 {\n",
       "  background-color: lightgreen;\n",
       "}\n",
       "</style>\n",
       "<table id=\"T_26eac\">\n",
       "  <thead>\n",
       "    <tr>\n",
       "      <th class=\"blank level0\" >&nbsp;</th>\n",
       "      <th id=\"T_26eac_level0_col0\" class=\"col_heading level0 col0\" >Description</th>\n",
       "      <th id=\"T_26eac_level0_col1\" class=\"col_heading level0 col1\" >Value</th>\n",
       "    </tr>\n",
       "  </thead>\n",
       "  <tbody>\n",
       "    <tr>\n",
       "      <th id=\"T_26eac_level0_row0\" class=\"row_heading level0 row0\" >0</th>\n",
       "      <td id=\"T_26eac_row0_col0\" class=\"data row0 col0\" >Session id</td>\n",
       "      <td id=\"T_26eac_row0_col1\" class=\"data row0 col1\" >123</td>\n",
       "    </tr>\n",
       "    <tr>\n",
       "      <th id=\"T_26eac_level0_row1\" class=\"row_heading level0 row1\" >1</th>\n",
       "      <td id=\"T_26eac_row1_col0\" class=\"data row1 col0\" >Target</td>\n",
       "      <td id=\"T_26eac_row1_col1\" class=\"data row1 col1\" >isFraud</td>\n",
       "    </tr>\n",
       "    <tr>\n",
       "      <th id=\"T_26eac_level0_row2\" class=\"row_heading level0 row2\" >2</th>\n",
       "      <td id=\"T_26eac_row2_col0\" class=\"data row2 col0\" >Target type</td>\n",
       "      <td id=\"T_26eac_row2_col1\" class=\"data row2 col1\" >Binary</td>\n",
       "    </tr>\n",
       "    <tr>\n",
       "      <th id=\"T_26eac_level0_row3\" class=\"row_heading level0 row3\" >3</th>\n",
       "      <td id=\"T_26eac_row3_col0\" class=\"data row3 col0\" >Original data shape</td>\n",
       "      <td id=\"T_26eac_row3_col1\" class=\"data row3 col1\" >(100000, 15)</td>\n",
       "    </tr>\n",
       "    <tr>\n",
       "      <th id=\"T_26eac_level0_row4\" class=\"row_heading level0 row4\" >4</th>\n",
       "      <td id=\"T_26eac_row4_col0\" class=\"data row4 col0\" >Transformed data shape</td>\n",
       "      <td id=\"T_26eac_row4_col1\" class=\"data row4 col1\" >(162906, 9)</td>\n",
       "    </tr>\n",
       "    <tr>\n",
       "      <th id=\"T_26eac_level0_row5\" class=\"row_heading level0 row5\" >5</th>\n",
       "      <td id=\"T_26eac_row5_col0\" class=\"data row5 col0\" >Transformed train set shape</td>\n",
       "      <td id=\"T_26eac_row5_col1\" class=\"data row5 col1\" >(132906, 9)</td>\n",
       "    </tr>\n",
       "    <tr>\n",
       "      <th id=\"T_26eac_level0_row6\" class=\"row_heading level0 row6\" >6</th>\n",
       "      <td id=\"T_26eac_row6_col0\" class=\"data row6 col0\" >Transformed test set shape</td>\n",
       "      <td id=\"T_26eac_row6_col1\" class=\"data row6 col1\" >(30000, 9)</td>\n",
       "    </tr>\n",
       "    <tr>\n",
       "      <th id=\"T_26eac_level0_row7\" class=\"row_heading level0 row7\" >7</th>\n",
       "      <td id=\"T_26eac_row7_col0\" class=\"data row7 col0\" >Ignore features</td>\n",
       "      <td id=\"T_26eac_row7_col1\" class=\"data row7 col1\" >2</td>\n",
       "    </tr>\n",
       "    <tr>\n",
       "      <th id=\"T_26eac_level0_row8\" class=\"row_heading level0 row8\" >8</th>\n",
       "      <td id=\"T_26eac_row8_col0\" class=\"data row8 col0\" >Numeric features</td>\n",
       "      <td id=\"T_26eac_row8_col1\" class=\"data row8 col1\" >6</td>\n",
       "    </tr>\n",
       "    <tr>\n",
       "      <th id=\"T_26eac_level0_row9\" class=\"row_heading level0 row9\" >9</th>\n",
       "      <td id=\"T_26eac_row9_col0\" class=\"data row9 col0\" >Categorical features</td>\n",
       "      <td id=\"T_26eac_row9_col1\" class=\"data row9 col1\" >1</td>\n",
       "    </tr>\n",
       "    <tr>\n",
       "      <th id=\"T_26eac_level0_row10\" class=\"row_heading level0 row10\" >10</th>\n",
       "      <td id=\"T_26eac_row10_col0\" class=\"data row10 col0\" >Keep features</td>\n",
       "      <td id=\"T_26eac_row10_col1\" class=\"data row10 col1\" >6</td>\n",
       "    </tr>\n",
       "    <tr>\n",
       "      <th id=\"T_26eac_level0_row11\" class=\"row_heading level0 row11\" >11</th>\n",
       "      <td id=\"T_26eac_row11_col0\" class=\"data row11 col0\" >Preprocess</td>\n",
       "      <td id=\"T_26eac_row11_col1\" class=\"data row11 col1\" >True</td>\n",
       "    </tr>\n",
       "    <tr>\n",
       "      <th id=\"T_26eac_level0_row12\" class=\"row_heading level0 row12\" >12</th>\n",
       "      <td id=\"T_26eac_row12_col0\" class=\"data row12 col0\" >Imputation type</td>\n",
       "      <td id=\"T_26eac_row12_col1\" class=\"data row12 col1\" >simple</td>\n",
       "    </tr>\n",
       "    <tr>\n",
       "      <th id=\"T_26eac_level0_row13\" class=\"row_heading level0 row13\" >13</th>\n",
       "      <td id=\"T_26eac_row13_col0\" class=\"data row13 col0\" >Numeric imputation</td>\n",
       "      <td id=\"T_26eac_row13_col1\" class=\"data row13 col1\" >mean</td>\n",
       "    </tr>\n",
       "    <tr>\n",
       "      <th id=\"T_26eac_level0_row14\" class=\"row_heading level0 row14\" >14</th>\n",
       "      <td id=\"T_26eac_row14_col0\" class=\"data row14 col0\" >Categorical imputation</td>\n",
       "      <td id=\"T_26eac_row14_col1\" class=\"data row14 col1\" >mode</td>\n",
       "    </tr>\n",
       "    <tr>\n",
       "      <th id=\"T_26eac_level0_row15\" class=\"row_heading level0 row15\" >15</th>\n",
       "      <td id=\"T_26eac_row15_col0\" class=\"data row15 col0\" >Maximum one-hot encoding</td>\n",
       "      <td id=\"T_26eac_row15_col1\" class=\"data row15 col1\" >25</td>\n",
       "    </tr>\n",
       "    <tr>\n",
       "      <th id=\"T_26eac_level0_row16\" class=\"row_heading level0 row16\" >16</th>\n",
       "      <td id=\"T_26eac_row16_col0\" class=\"data row16 col0\" >Encoding method</td>\n",
       "      <td id=\"T_26eac_row16_col1\" class=\"data row16 col1\" >None</td>\n",
       "    </tr>\n",
       "    <tr>\n",
       "      <th id=\"T_26eac_level0_row17\" class=\"row_heading level0 row17\" >17</th>\n",
       "      <td id=\"T_26eac_row17_col0\" class=\"data row17 col0\" >Remove multicollinearity</td>\n",
       "      <td id=\"T_26eac_row17_col1\" class=\"data row17 col1\" >True</td>\n",
       "    </tr>\n",
       "    <tr>\n",
       "      <th id=\"T_26eac_level0_row18\" class=\"row_heading level0 row18\" >18</th>\n",
       "      <td id=\"T_26eac_row18_col0\" class=\"data row18 col0\" >Multicollinearity threshold</td>\n",
       "      <td id=\"T_26eac_row18_col1\" class=\"data row18 col1\" >0.900000</td>\n",
       "    </tr>\n",
       "    <tr>\n",
       "      <th id=\"T_26eac_level0_row19\" class=\"row_heading level0 row19\" >19</th>\n",
       "      <td id=\"T_26eac_row19_col0\" class=\"data row19 col0\" >Remove outliers</td>\n",
       "      <td id=\"T_26eac_row19_col1\" class=\"data row19 col1\" >True</td>\n",
       "    </tr>\n",
       "    <tr>\n",
       "      <th id=\"T_26eac_level0_row20\" class=\"row_heading level0 row20\" >20</th>\n",
       "      <td id=\"T_26eac_row20_col0\" class=\"data row20 col0\" >Outliers threshold</td>\n",
       "      <td id=\"T_26eac_row20_col1\" class=\"data row20 col1\" >0.050000</td>\n",
       "    </tr>\n",
       "    <tr>\n",
       "      <th id=\"T_26eac_level0_row21\" class=\"row_heading level0 row21\" >21</th>\n",
       "      <td id=\"T_26eac_row21_col0\" class=\"data row21 col0\" >Fix imbalance</td>\n",
       "      <td id=\"T_26eac_row21_col1\" class=\"data row21 col1\" >True</td>\n",
       "    </tr>\n",
       "    <tr>\n",
       "      <th id=\"T_26eac_level0_row22\" class=\"row_heading level0 row22\" >22</th>\n",
       "      <td id=\"T_26eac_row22_col0\" class=\"data row22 col0\" >Fix imbalance method</td>\n",
       "      <td id=\"T_26eac_row22_col1\" class=\"data row22 col1\" >SMOTE</td>\n",
       "    </tr>\n",
       "    <tr>\n",
       "      <th id=\"T_26eac_level0_row23\" class=\"row_heading level0 row23\" >23</th>\n",
       "      <td id=\"T_26eac_row23_col0\" class=\"data row23 col0\" >Transformation</td>\n",
       "      <td id=\"T_26eac_row23_col1\" class=\"data row23 col1\" >True</td>\n",
       "    </tr>\n",
       "    <tr>\n",
       "      <th id=\"T_26eac_level0_row24\" class=\"row_heading level0 row24\" >24</th>\n",
       "      <td id=\"T_26eac_row24_col0\" class=\"data row24 col0\" >Transformation method</td>\n",
       "      <td id=\"T_26eac_row24_col1\" class=\"data row24 col1\" >yeo-johnson</td>\n",
       "    </tr>\n",
       "    <tr>\n",
       "      <th id=\"T_26eac_level0_row25\" class=\"row_heading level0 row25\" >25</th>\n",
       "      <td id=\"T_26eac_row25_col0\" class=\"data row25 col0\" >Normalize</td>\n",
       "      <td id=\"T_26eac_row25_col1\" class=\"data row25 col1\" >True</td>\n",
       "    </tr>\n",
       "    <tr>\n",
       "      <th id=\"T_26eac_level0_row26\" class=\"row_heading level0 row26\" >26</th>\n",
       "      <td id=\"T_26eac_row26_col0\" class=\"data row26 col0\" >Normalize method</td>\n",
       "      <td id=\"T_26eac_row26_col1\" class=\"data row26 col1\" >zscore</td>\n",
       "    </tr>\n",
       "    <tr>\n",
       "      <th id=\"T_26eac_level0_row27\" class=\"row_heading level0 row27\" >27</th>\n",
       "      <td id=\"T_26eac_row27_col0\" class=\"data row27 col0\" >Feature selection</td>\n",
       "      <td id=\"T_26eac_row27_col1\" class=\"data row27 col1\" >True</td>\n",
       "    </tr>\n",
       "    <tr>\n",
       "      <th id=\"T_26eac_level0_row28\" class=\"row_heading level0 row28\" >28</th>\n",
       "      <td id=\"T_26eac_row28_col0\" class=\"data row28 col0\" >Feature selection method</td>\n",
       "      <td id=\"T_26eac_row28_col1\" class=\"data row28 col1\" >classic</td>\n",
       "    </tr>\n",
       "    <tr>\n",
       "      <th id=\"T_26eac_level0_row29\" class=\"row_heading level0 row29\" >29</th>\n",
       "      <td id=\"T_26eac_row29_col0\" class=\"data row29 col0\" >Feature selection estimator</td>\n",
       "      <td id=\"T_26eac_row29_col1\" class=\"data row29 col1\" >lightgbm</td>\n",
       "    </tr>\n",
       "    <tr>\n",
       "      <th id=\"T_26eac_level0_row30\" class=\"row_heading level0 row30\" >30</th>\n",
       "      <td id=\"T_26eac_row30_col0\" class=\"data row30 col0\" >Number of features selected</td>\n",
       "      <td id=\"T_26eac_row30_col1\" class=\"data row30 col1\" >0.200000</td>\n",
       "    </tr>\n",
       "    <tr>\n",
       "      <th id=\"T_26eac_level0_row31\" class=\"row_heading level0 row31\" >31</th>\n",
       "      <td id=\"T_26eac_row31_col0\" class=\"data row31 col0\" >Fold Generator</td>\n",
       "      <td id=\"T_26eac_row31_col1\" class=\"data row31 col1\" >StratifiedKFold</td>\n",
       "    </tr>\n",
       "    <tr>\n",
       "      <th id=\"T_26eac_level0_row32\" class=\"row_heading level0 row32\" >32</th>\n",
       "      <td id=\"T_26eac_row32_col0\" class=\"data row32 col0\" >Fold Number</td>\n",
       "      <td id=\"T_26eac_row32_col1\" class=\"data row32 col1\" >10</td>\n",
       "    </tr>\n",
       "    <tr>\n",
       "      <th id=\"T_26eac_level0_row33\" class=\"row_heading level0 row33\" >33</th>\n",
       "      <td id=\"T_26eac_row33_col0\" class=\"data row33 col0\" >CPU Jobs</td>\n",
       "      <td id=\"T_26eac_row33_col1\" class=\"data row33 col1\" >-1</td>\n",
       "    </tr>\n",
       "    <tr>\n",
       "      <th id=\"T_26eac_level0_row34\" class=\"row_heading level0 row34\" >34</th>\n",
       "      <td id=\"T_26eac_row34_col0\" class=\"data row34 col0\" >Use GPU</td>\n",
       "      <td id=\"T_26eac_row34_col1\" class=\"data row34 col1\" >False</td>\n",
       "    </tr>\n",
       "    <tr>\n",
       "      <th id=\"T_26eac_level0_row35\" class=\"row_heading level0 row35\" >35</th>\n",
       "      <td id=\"T_26eac_row35_col0\" class=\"data row35 col0\" >Log Experiment</td>\n",
       "      <td id=\"T_26eac_row35_col1\" class=\"data row35 col1\" >False</td>\n",
       "    </tr>\n",
       "    <tr>\n",
       "      <th id=\"T_26eac_level0_row36\" class=\"row_heading level0 row36\" >36</th>\n",
       "      <td id=\"T_26eac_row36_col0\" class=\"data row36 col0\" >Experiment Name</td>\n",
       "      <td id=\"T_26eac_row36_col1\" class=\"data row36 col1\" >clf-default-name</td>\n",
       "    </tr>\n",
       "    <tr>\n",
       "      <th id=\"T_26eac_level0_row37\" class=\"row_heading level0 row37\" >37</th>\n",
       "      <td id=\"T_26eac_row37_col0\" class=\"data row37 col0\" >USI</td>\n",
       "      <td id=\"T_26eac_row37_col1\" class=\"data row37 col1\" >2e97</td>\n",
       "    </tr>\n",
       "  </tbody>\n",
       "</table>\n"
      ],
      "text/plain": [
       "<pandas.io.formats.style.Styler at 0x16daff24310>"
      ]
     },
     "metadata": {},
     "output_type": "display_data"
    }
   ],
   "source": [
    "mod = setup(data_func=load, \n",
    "            target = 'isFraud', \n",
    "            session_id =123, \n",
    "            remove_outliers = True,\n",
    "            remove_multicollinearity = True,\n",
    "            data_split_stratify=True,\n",
    "            keep_features = ['type_CASH_IN','type_CASH_OUT','type_PAYMENT','type_DEBIT','type_TRANSFER','isFlaggedFraud'],\n",
    "            ignore_features=['nameOrig', 'nameDest'],\n",
    "            bin_numeric_features = ['amount'],\n",
    "            feature_selection=True,\n",
    "            normalize=True,                    # Normalize the data\n",
    "            transformation=True, \n",
    "        # Apply transformation ( based on skewness)\n",
    "           \n",
    "            fix_imbalance = True\n",
    "           )\n"
   ]
  },
  {
   "cell_type": "code",
   "execution_count": 191,
   "id": "eb350733-a1da-4602-8d92-cff268e8af2b",
   "metadata": {},
   "outputs": [
    {
     "data": {
      "text/plain": [
       "step                 int32\n",
       "amount             float32\n",
       "oldbalanceOrg      float32\n",
       "newbalanceOrig     float32\n",
       "oldbalanceDest     float32\n",
       "newbalanceDest     float32\n",
       "isFlaggedFraud    category\n",
       "type_CASH_IN          bool\n",
       "type_CASH_OUT         bool\n",
       "type_DEBIT            bool\n",
       "type_PAYMENT          bool\n",
       "type_TRANSFER         bool\n",
       "dtype: object"
      ]
     },
     "execution_count": 191,
     "metadata": {},
     "output_type": "execute_result"
    }
   ],
   "source": [
    "\n",
    "data_types = mod.X.dtypes\n",
    "data_types"
   ]
  },
  {
   "cell_type": "markdown",
   "id": "3ed6bd0c-b55d-4f23-a6f6-4e431f0815f2",
   "metadata": {},
   "source": [
    "BEST MODEL"
   ]
  },
  {
   "cell_type": "code",
   "execution_count": 212,
   "id": "067a1af1-95ed-4ad7-8e69-85cc434ae349",
   "metadata": {},
   "outputs": [
    {
     "data": {
      "text/html": [],
      "text/plain": [
       "<IPython.core.display.HTML object>"
      ]
     },
     "metadata": {},
     "output_type": "display_data"
    },
    {
     "data": {
      "text/html": [
       "<style type=\"text/css\">\n",
       "#T_5d1a5 th {\n",
       "  text-align: left;\n",
       "}\n",
       "#T_5d1a5_row0_col0, #T_5d1a5_row0_col2, #T_5d1a5_row0_col3, #T_5d1a5_row0_col4, #T_5d1a5_row0_col5, #T_5d1a5_row0_col6, #T_5d1a5_row0_col7, #T_5d1a5_row1_col0, #T_5d1a5_row1_col2, #T_5d1a5_row1_col3, #T_5d1a5_row1_col4, #T_5d1a5_row1_col5, #T_5d1a5_row1_col6, #T_5d1a5_row1_col7, #T_5d1a5_row2_col0, #T_5d1a5_row2_col1, #T_5d1a5_row2_col2, #T_5d1a5_row2_col3, #T_5d1a5_row2_col4, #T_5d1a5_row2_col5, #T_5d1a5_row2_col6, #T_5d1a5_row2_col7, #T_5d1a5_row3_col0, #T_5d1a5_row3_col1, #T_5d1a5_row3_col2, #T_5d1a5_row3_col3, #T_5d1a5_row3_col7, #T_5d1a5_row4_col0, #T_5d1a5_row4_col1, #T_5d1a5_row4_col2, #T_5d1a5_row4_col3, #T_5d1a5_row4_col4, #T_5d1a5_row4_col5, #T_5d1a5_row4_col6, #T_5d1a5_row4_col7, #T_5d1a5_row5_col0, #T_5d1a5_row5_col1, #T_5d1a5_row5_col2, #T_5d1a5_row5_col3, #T_5d1a5_row5_col4, #T_5d1a5_row5_col5, #T_5d1a5_row5_col6, #T_5d1a5_row5_col7, #T_5d1a5_row6_col0, #T_5d1a5_row6_col1, #T_5d1a5_row6_col2, #T_5d1a5_row6_col3, #T_5d1a5_row6_col4, #T_5d1a5_row6_col5, #T_5d1a5_row6_col6, #T_5d1a5_row6_col7, #T_5d1a5_row7_col0, #T_5d1a5_row7_col1, #T_5d1a5_row7_col2, #T_5d1a5_row7_col3, #T_5d1a5_row7_col4, #T_5d1a5_row7_col5, #T_5d1a5_row7_col6, #T_5d1a5_row7_col7, #T_5d1a5_row8_col0, #T_5d1a5_row8_col1, #T_5d1a5_row8_col2, #T_5d1a5_row8_col3, #T_5d1a5_row8_col4, #T_5d1a5_row8_col5, #T_5d1a5_row8_col6, #T_5d1a5_row8_col7, #T_5d1a5_row9_col0, #T_5d1a5_row9_col1, #T_5d1a5_row9_col3, #T_5d1a5_row9_col4, #T_5d1a5_row9_col5, #T_5d1a5_row9_col6, #T_5d1a5_row10_col0, #T_5d1a5_row10_col1, #T_5d1a5_row10_col2, #T_5d1a5_row10_col3, #T_5d1a5_row10_col4, #T_5d1a5_row10_col5, #T_5d1a5_row10_col6, #T_5d1a5_row10_col7, #T_5d1a5_row11_col0, #T_5d1a5_row11_col1, #T_5d1a5_row11_col2, #T_5d1a5_row11_col3, #T_5d1a5_row11_col4, #T_5d1a5_row11_col5, #T_5d1a5_row11_col6, #T_5d1a5_row11_col7, #T_5d1a5_row12_col0, #T_5d1a5_row12_col1, #T_5d1a5_row12_col2, #T_5d1a5_row12_col3, #T_5d1a5_row12_col4, #T_5d1a5_row12_col5, #T_5d1a5_row12_col6, #T_5d1a5_row12_col7, #T_5d1a5_row13_col0, #T_5d1a5_row13_col1, #T_5d1a5_row13_col2, #T_5d1a5_row13_col4, #T_5d1a5_row13_col5, #T_5d1a5_row13_col6, #T_5d1a5_row13_col7 {\n",
       "  text-align: left;\n",
       "}\n",
       "#T_5d1a5_row0_col1, #T_5d1a5_row1_col1, #T_5d1a5_row3_col4, #T_5d1a5_row3_col5, #T_5d1a5_row3_col6, #T_5d1a5_row9_col2, #T_5d1a5_row9_col7, #T_5d1a5_row13_col3 {\n",
       "  text-align: left;\n",
       "  background-color: yellow;\n",
       "}\n",
       "#T_5d1a5_row0_col8, #T_5d1a5_row2_col8, #T_5d1a5_row3_col8, #T_5d1a5_row4_col8, #T_5d1a5_row5_col8, #T_5d1a5_row6_col8, #T_5d1a5_row7_col8, #T_5d1a5_row8_col8, #T_5d1a5_row9_col8, #T_5d1a5_row10_col8, #T_5d1a5_row11_col8, #T_5d1a5_row12_col8, #T_5d1a5_row13_col8 {\n",
       "  text-align: left;\n",
       "  background-color: lightgrey;\n",
       "}\n",
       "#T_5d1a5_row1_col8 {\n",
       "  text-align: left;\n",
       "  background-color: yellow;\n",
       "  background-color: lightgrey;\n",
       "}\n",
       "</style>\n",
       "<table id=\"T_5d1a5\">\n",
       "  <thead>\n",
       "    <tr>\n",
       "      <th class=\"blank level0\" >&nbsp;</th>\n",
       "      <th id=\"T_5d1a5_level0_col0\" class=\"col_heading level0 col0\" >Model</th>\n",
       "      <th id=\"T_5d1a5_level0_col1\" class=\"col_heading level0 col1\" >Accuracy</th>\n",
       "      <th id=\"T_5d1a5_level0_col2\" class=\"col_heading level0 col2\" >AUC</th>\n",
       "      <th id=\"T_5d1a5_level0_col3\" class=\"col_heading level0 col3\" >Recall</th>\n",
       "      <th id=\"T_5d1a5_level0_col4\" class=\"col_heading level0 col4\" >Prec.</th>\n",
       "      <th id=\"T_5d1a5_level0_col5\" class=\"col_heading level0 col5\" >F1</th>\n",
       "      <th id=\"T_5d1a5_level0_col6\" class=\"col_heading level0 col6\" >Kappa</th>\n",
       "      <th id=\"T_5d1a5_level0_col7\" class=\"col_heading level0 col7\" >MCC</th>\n",
       "      <th id=\"T_5d1a5_level0_col8\" class=\"col_heading level0 col8\" >TT (Sec)</th>\n",
       "    </tr>\n",
       "  </thead>\n",
       "  <tbody>\n",
       "    <tr>\n",
       "      <th id=\"T_5d1a5_level0_row0\" class=\"row_heading level0 row0\" >qda</th>\n",
       "      <td id=\"T_5d1a5_row0_col0\" class=\"data row0 col0\" >Quadratic Discriminant Analysis</td>\n",
       "      <td id=\"T_5d1a5_row0_col1\" class=\"data row0 col1\" >0.9986</td>\n",
       "      <td id=\"T_5d1a5_row0_col2\" class=\"data row0 col2\" >0.8491</td>\n",
       "      <td id=\"T_5d1a5_row0_col3\" class=\"data row0 col3\" >0.0000</td>\n",
       "      <td id=\"T_5d1a5_row0_col4\" class=\"data row0 col4\" >0.0000</td>\n",
       "      <td id=\"T_5d1a5_row0_col5\" class=\"data row0 col5\" >0.0000</td>\n",
       "      <td id=\"T_5d1a5_row0_col6\" class=\"data row0 col6\" >0.0000</td>\n",
       "      <td id=\"T_5d1a5_row0_col7\" class=\"data row0 col7\" >0.0000</td>\n",
       "      <td id=\"T_5d1a5_row0_col8\" class=\"data row0 col8\" >1.3080</td>\n",
       "    </tr>\n",
       "    <tr>\n",
       "      <th id=\"T_5d1a5_level0_row1\" class=\"row_heading level0 row1\" >dummy</th>\n",
       "      <td id=\"T_5d1a5_row1_col0\" class=\"data row1 col0\" >Dummy Classifier</td>\n",
       "      <td id=\"T_5d1a5_row1_col1\" class=\"data row1 col1\" >0.9986</td>\n",
       "      <td id=\"T_5d1a5_row1_col2\" class=\"data row1 col2\" >0.5000</td>\n",
       "      <td id=\"T_5d1a5_row1_col3\" class=\"data row1 col3\" >0.0000</td>\n",
       "      <td id=\"T_5d1a5_row1_col4\" class=\"data row1 col4\" >0.0000</td>\n",
       "      <td id=\"T_5d1a5_row1_col5\" class=\"data row1 col5\" >0.0000</td>\n",
       "      <td id=\"T_5d1a5_row1_col6\" class=\"data row1 col6\" >0.0000</td>\n",
       "      <td id=\"T_5d1a5_row1_col7\" class=\"data row1 col7\" >0.0000</td>\n",
       "      <td id=\"T_5d1a5_row1_col8\" class=\"data row1 col8\" >1.2260</td>\n",
       "    </tr>\n",
       "    <tr>\n",
       "      <th id=\"T_5d1a5_level0_row2\" class=\"row_heading level0 row2\" >dt</th>\n",
       "      <td id=\"T_5d1a5_row2_col0\" class=\"data row2 col0\" >Decision Tree Classifier</td>\n",
       "      <td id=\"T_5d1a5_row2_col1\" class=\"data row2 col1\" >0.9765</td>\n",
       "      <td id=\"T_5d1a5_row2_col2\" class=\"data row2 col2\" >0.5588</td>\n",
       "      <td id=\"T_5d1a5_row2_col3\" class=\"data row2 col3\" >0.1400</td>\n",
       "      <td id=\"T_5d1a5_row2_col4\" class=\"data row2 col4\" >0.0092</td>\n",
       "      <td id=\"T_5d1a5_row2_col5\" class=\"data row2 col5\" >0.0172</td>\n",
       "      <td id=\"T_5d1a5_row2_col6\" class=\"data row2 col6\" >0.0146</td>\n",
       "      <td id=\"T_5d1a5_row2_col7\" class=\"data row2 col7\" >0.0305</td>\n",
       "      <td id=\"T_5d1a5_row2_col8\" class=\"data row2 col8\" >1.4920</td>\n",
       "    </tr>\n",
       "    <tr>\n",
       "      <th id=\"T_5d1a5_level0_row3\" class=\"row_heading level0 row3\" >et</th>\n",
       "      <td id=\"T_5d1a5_row3_col0\" class=\"data row3 col0\" >Extra Trees Classifier</td>\n",
       "      <td id=\"T_5d1a5_row3_col1\" class=\"data row3 col1\" >0.9752</td>\n",
       "      <td id=\"T_5d1a5_row3_col2\" class=\"data row3 col2\" >0.8962</td>\n",
       "      <td id=\"T_5d1a5_row3_col3\" class=\"data row3 col3\" >0.2200</td>\n",
       "      <td id=\"T_5d1a5_row3_col4\" class=\"data row3 col4\" >0.0136</td>\n",
       "      <td id=\"T_5d1a5_row3_col5\" class=\"data row3 col5\" >0.0255</td>\n",
       "      <td id=\"T_5d1a5_row3_col6\" class=\"data row3 col6\" >0.0229</td>\n",
       "      <td id=\"T_5d1a5_row3_col7\" class=\"data row3 col7\" >0.0493</td>\n",
       "      <td id=\"T_5d1a5_row3_col8\" class=\"data row3 col8\" >2.3910</td>\n",
       "    </tr>\n",
       "    <tr>\n",
       "      <th id=\"T_5d1a5_level0_row4\" class=\"row_heading level0 row4\" >rf</th>\n",
       "      <td id=\"T_5d1a5_row4_col0\" class=\"data row4 col0\" >Random Forest Classifier</td>\n",
       "      <td id=\"T_5d1a5_row4_col1\" class=\"data row4 col1\" >0.9726</td>\n",
       "      <td id=\"T_5d1a5_row4_col2\" class=\"data row4 col2\" >0.8668</td>\n",
       "      <td id=\"T_5d1a5_row4_col3\" class=\"data row4 col3\" >0.2411</td>\n",
       "      <td id=\"T_5d1a5_row4_col4\" class=\"data row4 col4\" >0.0132</td>\n",
       "      <td id=\"T_5d1a5_row4_col5\" class=\"data row4 col5\" >0.0250</td>\n",
       "      <td id=\"T_5d1a5_row4_col6\" class=\"data row4 col6\" >0.0224</td>\n",
       "      <td id=\"T_5d1a5_row4_col7\" class=\"data row4 col7\" >0.0509</td>\n",
       "      <td id=\"T_5d1a5_row4_col8\" class=\"data row4 col8\" >5.6800</td>\n",
       "    </tr>\n",
       "    <tr>\n",
       "      <th id=\"T_5d1a5_level0_row5\" class=\"row_heading level0 row5\" >knn</th>\n",
       "      <td id=\"T_5d1a5_row5_col0\" class=\"data row5 col0\" >K Neighbors Classifier</td>\n",
       "      <td id=\"T_5d1a5_row5_col1\" class=\"data row5 col1\" >0.9571</td>\n",
       "      <td id=\"T_5d1a5_row5_col2\" class=\"data row5 col2\" >0.7359</td>\n",
       "      <td id=\"T_5d1a5_row5_col3\" class=\"data row5 col3\" >0.3733</td>\n",
       "      <td id=\"T_5d1a5_row5_col4\" class=\"data row5 col4\" >0.0128</td>\n",
       "      <td id=\"T_5d1a5_row5_col5\" class=\"data row5 col5\" >0.0247</td>\n",
       "      <td id=\"T_5d1a5_row5_col6\" class=\"data row5 col6\" >0.0220</td>\n",
       "      <td id=\"T_5d1a5_row5_col7\" class=\"data row5 col7\" >0.0625</td>\n",
       "      <td id=\"T_5d1a5_row5_col8\" class=\"data row5 col8\" >1.8160</td>\n",
       "    </tr>\n",
       "    <tr>\n",
       "      <th id=\"T_5d1a5_level0_row6\" class=\"row_heading level0 row6\" >lightgbm</th>\n",
       "      <td id=\"T_5d1a5_row6_col0\" class=\"data row6 col0\" >Light Gradient Boosting Machine</td>\n",
       "      <td id=\"T_5d1a5_row6_col1\" class=\"data row6 col1\" >0.9513</td>\n",
       "      <td id=\"T_5d1a5_row6_col2\" class=\"data row6 col2\" >0.9239</td>\n",
       "      <td id=\"T_5d1a5_row6_col3\" class=\"data row6 col3\" >0.4133</td>\n",
       "      <td id=\"T_5d1a5_row6_col4\" class=\"data row6 col4\" >0.0125</td>\n",
       "      <td id=\"T_5d1a5_row6_col5\" class=\"data row6 col5\" >0.0242</td>\n",
       "      <td id=\"T_5d1a5_row6_col6\" class=\"data row6 col6\" >0.0215</td>\n",
       "      <td id=\"T_5d1a5_row6_col7\" class=\"data row6 col7\" >0.0650</td>\n",
       "      <td id=\"T_5d1a5_row6_col8\" class=\"data row6 col8\" >1.5870</td>\n",
       "    </tr>\n",
       "    <tr>\n",
       "      <th id=\"T_5d1a5_level0_row7\" class=\"row_heading level0 row7\" >gbc</th>\n",
       "      <td id=\"T_5d1a5_row7_col0\" class=\"data row7 col0\" >Gradient Boosting Classifier</td>\n",
       "      <td id=\"T_5d1a5_row7_col1\" class=\"data row7 col1\" >0.9246</td>\n",
       "      <td id=\"T_5d1a5_row7_col2\" class=\"data row7 col2\" >0.9325</td>\n",
       "      <td id=\"T_5d1a5_row7_col3\" class=\"data row7 col3\" >0.6256</td>\n",
       "      <td id=\"T_5d1a5_row7_col4\" class=\"data row7 col4\" >0.0119</td>\n",
       "      <td id=\"T_5d1a5_row7_col5\" class=\"data row7 col5\" >0.0233</td>\n",
       "      <td id=\"T_5d1a5_row7_col6\" class=\"data row7 col6\" >0.0206</td>\n",
       "      <td id=\"T_5d1a5_row7_col7\" class=\"data row7 col7\" >0.0787</td>\n",
       "      <td id=\"T_5d1a5_row7_col8\" class=\"data row7 col8\" >6.3890</td>\n",
       "    </tr>\n",
       "    <tr>\n",
       "      <th id=\"T_5d1a5_level0_row8\" class=\"row_heading level0 row8\" >ada</th>\n",
       "      <td id=\"T_5d1a5_row8_col0\" class=\"data row8 col0\" >Ada Boost Classifier</td>\n",
       "      <td id=\"T_5d1a5_row8_col1\" class=\"data row8 col1\" >0.9155</td>\n",
       "      <td id=\"T_5d1a5_row8_col2\" class=\"data row8 col2\" >0.8984</td>\n",
       "      <td id=\"T_5d1a5_row8_col3\" class=\"data row8 col3\" >0.5222</td>\n",
       "      <td id=\"T_5d1a5_row8_col4\" class=\"data row8 col4\" >0.0089</td>\n",
       "      <td id=\"T_5d1a5_row8_col5\" class=\"data row8 col5\" >0.0175</td>\n",
       "      <td id=\"T_5d1a5_row8_col6\" class=\"data row8 col6\" >0.0147</td>\n",
       "      <td id=\"T_5d1a5_row8_col7\" class=\"data row8 col7\" >0.0597</td>\n",
       "      <td id=\"T_5d1a5_row8_col8\" class=\"data row8 col8\" >2.8130</td>\n",
       "    </tr>\n",
       "    <tr>\n",
       "      <th id=\"T_5d1a5_level0_row9\" class=\"row_heading level0 row9\" >lr</th>\n",
       "      <td id=\"T_5d1a5_row9_col0\" class=\"data row9 col0\" >Logistic Regression</td>\n",
       "      <td id=\"T_5d1a5_row9_col1\" class=\"data row9 col1\" >0.8965</td>\n",
       "      <td id=\"T_5d1a5_row9_col2\" class=\"data row9 col2\" >0.9791</td>\n",
       "      <td id=\"T_5d1a5_row9_col3\" class=\"data row9 col3\" >0.9300</td>\n",
       "      <td id=\"T_5d1a5_row9_col4\" class=\"data row9 col4\" >0.0126</td>\n",
       "      <td id=\"T_5d1a5_row9_col5\" class=\"data row9 col5\" >0.0249</td>\n",
       "      <td id=\"T_5d1a5_row9_col6\" class=\"data row9 col6\" >0.0221</td>\n",
       "      <td id=\"T_5d1a5_row9_col7\" class=\"data row9 col7\" >0.1015</td>\n",
       "      <td id=\"T_5d1a5_row9_col8\" class=\"data row9 col8\" >1.8220</td>\n",
       "    </tr>\n",
       "    <tr>\n",
       "      <th id=\"T_5d1a5_level0_row10\" class=\"row_heading level0 row10\" >svm</th>\n",
       "      <td id=\"T_5d1a5_row10_col0\" class=\"data row10 col0\" >SVM - Linear Kernel</td>\n",
       "      <td id=\"T_5d1a5_row10_col1\" class=\"data row10 col1\" >0.8951</td>\n",
       "      <td id=\"T_5d1a5_row10_col2\" class=\"data row10 col2\" >0.9786</td>\n",
       "      <td id=\"T_5d1a5_row10_col3\" class=\"data row10 col3\" >0.9300</td>\n",
       "      <td id=\"T_5d1a5_row10_col4\" class=\"data row10 col4\" >0.0126</td>\n",
       "      <td id=\"T_5d1a5_row10_col5\" class=\"data row10 col5\" >0.0249</td>\n",
       "      <td id=\"T_5d1a5_row10_col6\" class=\"data row10 col6\" >0.0221</td>\n",
       "      <td id=\"T_5d1a5_row10_col7\" class=\"data row10 col7\" >0.1013</td>\n",
       "      <td id=\"T_5d1a5_row10_col8\" class=\"data row10 col8\" >1.3960</td>\n",
       "    </tr>\n",
       "    <tr>\n",
       "      <th id=\"T_5d1a5_level0_row11\" class=\"row_heading level0 row11\" >ridge</th>\n",
       "      <td id=\"T_5d1a5_row11_col0\" class=\"data row11 col0\" >Ridge Classifier</td>\n",
       "      <td id=\"T_5d1a5_row11_col1\" class=\"data row11 col1\" >0.8465</td>\n",
       "      <td id=\"T_5d1a5_row11_col2\" class=\"data row11 col2\" >0.9751</td>\n",
       "      <td id=\"T_5d1a5_row11_col3\" class=\"data row11 col3\" >0.9400</td>\n",
       "      <td id=\"T_5d1a5_row11_col4\" class=\"data row11 col4\" >0.0086</td>\n",
       "      <td id=\"T_5d1a5_row11_col5\" class=\"data row11 col5\" >0.0171</td>\n",
       "      <td id=\"T_5d1a5_row11_col6\" class=\"data row11 col6\" >0.0143</td>\n",
       "      <td id=\"T_5d1a5_row11_col7\" class=\"data row11 col7\" >0.0817</td>\n",
       "      <td id=\"T_5d1a5_row11_col8\" class=\"data row11 col8\" >1.3450</td>\n",
       "    </tr>\n",
       "    <tr>\n",
       "      <th id=\"T_5d1a5_level0_row12\" class=\"row_heading level0 row12\" >lda</th>\n",
       "      <td id=\"T_5d1a5_row12_col0\" class=\"data row12 col0\" >Linear Discriminant Analysis</td>\n",
       "      <td id=\"T_5d1a5_row12_col1\" class=\"data row12 col1\" >0.8465</td>\n",
       "      <td id=\"T_5d1a5_row12_col2\" class=\"data row12 col2\" >0.9751</td>\n",
       "      <td id=\"T_5d1a5_row12_col3\" class=\"data row12 col3\" >0.9400</td>\n",
       "      <td id=\"T_5d1a5_row12_col4\" class=\"data row12 col4\" >0.0086</td>\n",
       "      <td id=\"T_5d1a5_row12_col5\" class=\"data row12 col5\" >0.0171</td>\n",
       "      <td id=\"T_5d1a5_row12_col6\" class=\"data row12 col6\" >0.0143</td>\n",
       "      <td id=\"T_5d1a5_row12_col7\" class=\"data row12 col7\" >0.0817</td>\n",
       "      <td id=\"T_5d1a5_row12_col8\" class=\"data row12 col8\" >1.2770</td>\n",
       "    </tr>\n",
       "    <tr>\n",
       "      <th id=\"T_5d1a5_level0_row13\" class=\"row_heading level0 row13\" >nb</th>\n",
       "      <td id=\"T_5d1a5_row13_col0\" class=\"data row13 col0\" >Naive Bayes</td>\n",
       "      <td id=\"T_5d1a5_row13_col1\" class=\"data row13 col1\" >0.5596</td>\n",
       "      <td id=\"T_5d1a5_row13_col2\" class=\"data row13 col2\" >0.9237</td>\n",
       "      <td id=\"T_5d1a5_row13_col3\" class=\"data row13 col3\" >1.0000</td>\n",
       "      <td id=\"T_5d1a5_row13_col4\" class=\"data row13 col4\" >0.0032</td>\n",
       "      <td id=\"T_5d1a5_row13_col5\" class=\"data row13 col5\" >0.0064</td>\n",
       "      <td id=\"T_5d1a5_row13_col6\" class=\"data row13 col6\" >0.0036</td>\n",
       "      <td id=\"T_5d1a5_row13_col7\" class=\"data row13 col7\" >0.0423</td>\n",
       "      <td id=\"T_5d1a5_row13_col8\" class=\"data row13 col8\" >1.3570</td>\n",
       "    </tr>\n",
       "  </tbody>\n",
       "</table>\n"
      ],
      "text/plain": [
       "<pandas.io.formats.style.Styler at 0x16e383b2a00>"
      ]
     },
     "metadata": {},
     "output_type": "display_data"
    },
    {
     "data": {
      "text/html": [],
      "text/plain": [
       "<IPython.core.display.HTML object>"
      ]
     },
     "metadata": {},
     "output_type": "display_data"
    }
   ],
   "source": [
    "small_model = compare_models()"
   ]
  },
  {
   "cell_type": "markdown",
   "id": "91673554-4b1b-4889-88d8-6c421f13ca35",
   "metadata": {},
   "source": [
    "From the above fitting, the best model values are highlighted which can be used ahead for hyperparameter tuning is perfomed so as to capture the required patterns, better learn the model w/o underfitting or overfitting it. Aim is to ensure better performance on unseen data."
   ]
  },
  {
   "cell_type": "code",
   "execution_count": 213,
   "id": "7ef78a4b-b375-4e7b-8255-60defd3b5892",
   "metadata": {},
   "outputs": [
    {
     "name": "stdout",
     "output_type": "stream",
     "text": [
      "QuadraticDiscriminantAnalysis(priors=None, reg_param=0.0,\n",
      "                              store_covariance=False, tol=0.0001)\n"
     ]
    }
   ],
   "source": [
    "print(small_model)\n"
   ]
  },
  {
   "cell_type": "markdown",
   "id": "ccd44e4f-f15c-4d40-98f7-88e1203226c1",
   "metadata": {},
   "source": [
    "Considering other parameters like AUC,Recall, etc Logistic Regression model is best "
   ]
  },
  {
   "cell_type": "code",
   "execution_count": 214,
   "id": "b5856594-3c3b-43d7-99d6-840ab4a8db76",
   "metadata": {},
   "outputs": [
    {
     "data": {
      "text/html": [],
      "text/plain": [
       "<IPython.core.display.HTML object>"
      ]
     },
     "metadata": {},
     "output_type": "display_data"
    },
    {
     "data": {
      "text/html": [
       "<style type=\"text/css\">\n",
       "#T_7ee7a_row10_col0, #T_7ee7a_row10_col1, #T_7ee7a_row10_col2, #T_7ee7a_row10_col3, #T_7ee7a_row10_col4, #T_7ee7a_row10_col5, #T_7ee7a_row10_col6 {\n",
       "  background: yellow;\n",
       "}\n",
       "</style>\n",
       "<table id=\"T_7ee7a\">\n",
       "  <thead>\n",
       "    <tr>\n",
       "      <th class=\"blank level0\" >&nbsp;</th>\n",
       "      <th id=\"T_7ee7a_level0_col0\" class=\"col_heading level0 col0\" >Accuracy</th>\n",
       "      <th id=\"T_7ee7a_level0_col1\" class=\"col_heading level0 col1\" >AUC</th>\n",
       "      <th id=\"T_7ee7a_level0_col2\" class=\"col_heading level0 col2\" >Recall</th>\n",
       "      <th id=\"T_7ee7a_level0_col3\" class=\"col_heading level0 col3\" >Prec.</th>\n",
       "      <th id=\"T_7ee7a_level0_col4\" class=\"col_heading level0 col4\" >F1</th>\n",
       "      <th id=\"T_7ee7a_level0_col5\" class=\"col_heading level0 col5\" >Kappa</th>\n",
       "      <th id=\"T_7ee7a_level0_col6\" class=\"col_heading level0 col6\" >MCC</th>\n",
       "    </tr>\n",
       "    <tr>\n",
       "      <th class=\"index_name level0\" >Fold</th>\n",
       "      <th class=\"blank col0\" >&nbsp;</th>\n",
       "      <th class=\"blank col1\" >&nbsp;</th>\n",
       "      <th class=\"blank col2\" >&nbsp;</th>\n",
       "      <th class=\"blank col3\" >&nbsp;</th>\n",
       "      <th class=\"blank col4\" >&nbsp;</th>\n",
       "      <th class=\"blank col5\" >&nbsp;</th>\n",
       "      <th class=\"blank col6\" >&nbsp;</th>\n",
       "    </tr>\n",
       "  </thead>\n",
       "  <tbody>\n",
       "    <tr>\n",
       "      <th id=\"T_7ee7a_level0_row0\" class=\"row_heading level0 row0\" >0</th>\n",
       "      <td id=\"T_7ee7a_row0_col0\" class=\"data row0 col0\" >0.8903</td>\n",
       "      <td id=\"T_7ee7a_row0_col1\" class=\"data row0 col1\" >0.9982</td>\n",
       "      <td id=\"T_7ee7a_row0_col2\" class=\"data row0 col2\" >1.0000</td>\n",
       "      <td id=\"T_7ee7a_row0_col3\" class=\"data row0 col3\" >0.0116</td>\n",
       "      <td id=\"T_7ee7a_row0_col4\" class=\"data row0 col4\" >0.0229</td>\n",
       "      <td id=\"T_7ee7a_row0_col5\" class=\"data row0 col5\" >0.0204</td>\n",
       "      <td id=\"T_7ee7a_row0_col6\" class=\"data row0 col6\" >0.1015</td>\n",
       "    </tr>\n",
       "    <tr>\n",
       "      <th id=\"T_7ee7a_level0_row1\" class=\"row_heading level0 row1\" >1</th>\n",
       "      <td id=\"T_7ee7a_row1_col0\" class=\"data row1 col0\" >0.9089</td>\n",
       "      <td id=\"T_7ee7a_row1_col1\" class=\"data row1 col1\" >0.9586</td>\n",
       "      <td id=\"T_7ee7a_row1_col2\" class=\"data row1 col2\" >0.9000</td>\n",
       "      <td id=\"T_7ee7a_row1_col3\" class=\"data row1 col3\" >0.0139</td>\n",
       "      <td id=\"T_7ee7a_row1_col4\" class=\"data row1 col4\" >0.0274</td>\n",
       "      <td id=\"T_7ee7a_row1_col5\" class=\"data row1 col5\" >0.0247</td>\n",
       "      <td id=\"T_7ee7a_row1_col6\" class=\"data row1 col6\" >0.1056</td>\n",
       "    </tr>\n",
       "    <tr>\n",
       "      <th id=\"T_7ee7a_level0_row2\" class=\"row_heading level0 row2\" >2</th>\n",
       "      <td id=\"T_7ee7a_row2_col0\" class=\"data row2 col0\" >0.8887</td>\n",
       "      <td id=\"T_7ee7a_row2_col1\" class=\"data row2 col1\" >0.9911</td>\n",
       "      <td id=\"T_7ee7a_row2_col2\" class=\"data row2 col2\" >1.0000</td>\n",
       "      <td id=\"T_7ee7a_row2_col3\" class=\"data row2 col3\" >0.0127</td>\n",
       "      <td id=\"T_7ee7a_row2_col4\" class=\"data row2 col4\" >0.0250</td>\n",
       "      <td id=\"T_7ee7a_row2_col5\" class=\"data row2 col5\" >0.0223</td>\n",
       "      <td id=\"T_7ee7a_row2_col6\" class=\"data row2 col6\" >0.1061</td>\n",
       "    </tr>\n",
       "    <tr>\n",
       "      <th id=\"T_7ee7a_level0_row3\" class=\"row_heading level0 row3\" >3</th>\n",
       "      <td id=\"T_7ee7a_row3_col0\" class=\"data row3 col0\" >0.9143</td>\n",
       "      <td id=\"T_7ee7a_row3_col1\" class=\"data row3 col1\" >0.9493</td>\n",
       "      <td id=\"T_7ee7a_row3_col2\" class=\"data row3 col2\" >0.7000</td>\n",
       "      <td id=\"T_7ee7a_row3_col3\" class=\"data row3 col3\" >0.0116</td>\n",
       "      <td id=\"T_7ee7a_row3_col4\" class=\"data row3 col4\" >0.0228</td>\n",
       "      <td id=\"T_7ee7a_row3_col5\" class=\"data row3 col5\" >0.0200</td>\n",
       "      <td id=\"T_7ee7a_row3_col6\" class=\"data row3 col6\" >0.0827</td>\n",
       "    </tr>\n",
       "    <tr>\n",
       "      <th id=\"T_7ee7a_level0_row4\" class=\"row_heading level0 row4\" >4</th>\n",
       "      <td id=\"T_7ee7a_row4_col0\" class=\"data row4 col0\" >0.8909</td>\n",
       "      <td id=\"T_7ee7a_row4_col1\" class=\"data row4 col1\" >0.9931</td>\n",
       "      <td id=\"T_7ee7a_row4_col2\" class=\"data row4 col2\" >1.0000</td>\n",
       "      <td id=\"T_7ee7a_row4_col3\" class=\"data row4 col3\" >0.0129</td>\n",
       "      <td id=\"T_7ee7a_row4_col4\" class=\"data row4 col4\" >0.0255</td>\n",
       "      <td id=\"T_7ee7a_row4_col5\" class=\"data row4 col5\" >0.0228</td>\n",
       "      <td id=\"T_7ee7a_row4_col6\" class=\"data row4 col6\" >0.1073</td>\n",
       "    </tr>\n",
       "    <tr>\n",
       "      <th id=\"T_7ee7a_level0_row5\" class=\"row_heading level0 row5\" >5</th>\n",
       "      <td id=\"T_7ee7a_row5_col0\" class=\"data row5 col0\" >0.9037</td>\n",
       "      <td id=\"T_7ee7a_row5_col1\" class=\"data row5 col1\" >0.9823</td>\n",
       "      <td id=\"T_7ee7a_row5_col2\" class=\"data row5 col2\" >1.0000</td>\n",
       "      <td id=\"T_7ee7a_row5_col3\" class=\"data row5 col3\" >0.0146</td>\n",
       "      <td id=\"T_7ee7a_row5_col4\" class=\"data row5 col4\" >0.0288</td>\n",
       "      <td id=\"T_7ee7a_row5_col5\" class=\"data row5 col5\" >0.0261</td>\n",
       "      <td id=\"T_7ee7a_row5_col6\" class=\"data row5 col6\" >0.1149</td>\n",
       "    </tr>\n",
       "    <tr>\n",
       "      <th id=\"T_7ee7a_level0_row6\" class=\"row_heading level0 row6\" >6</th>\n",
       "      <td id=\"T_7ee7a_row6_col0\" class=\"data row6 col0\" >0.8834</td>\n",
       "      <td id=\"T_7ee7a_row6_col1\" class=\"data row6 col1\" >0.9946</td>\n",
       "      <td id=\"T_7ee7a_row6_col2\" class=\"data row6 col2\" >1.0000</td>\n",
       "      <td id=\"T_7ee7a_row6_col3\" class=\"data row6 col3\" >0.0121</td>\n",
       "      <td id=\"T_7ee7a_row6_col4\" class=\"data row6 col4\" >0.0239</td>\n",
       "      <td id=\"T_7ee7a_row6_col5\" class=\"data row6 col5\" >0.0212</td>\n",
       "      <td id=\"T_7ee7a_row6_col6\" class=\"data row6 col6\" >0.1034</td>\n",
       "    </tr>\n",
       "    <tr>\n",
       "      <th id=\"T_7ee7a_level0_row7\" class=\"row_heading level0 row7\" >7</th>\n",
       "      <td id=\"T_7ee7a_row7_col0\" class=\"data row7 col0\" >0.8819</td>\n",
       "      <td id=\"T_7ee7a_row7_col1\" class=\"data row7 col1\" >0.9789</td>\n",
       "      <td id=\"T_7ee7a_row7_col2\" class=\"data row7 col2\" >0.9000</td>\n",
       "      <td id=\"T_7ee7a_row7_col3\" class=\"data row7 col3\" >0.0108</td>\n",
       "      <td id=\"T_7ee7a_row7_col4\" class=\"data row7 col4\" >0.0213</td>\n",
       "      <td id=\"T_7ee7a_row7_col5\" class=\"data row7 col5\" >0.0185</td>\n",
       "      <td id=\"T_7ee7a_row7_col6\" class=\"data row7 col6\" >0.0911</td>\n",
       "    </tr>\n",
       "    <tr>\n",
       "      <th id=\"T_7ee7a_level0_row8\" class=\"row_heading level0 row8\" >8</th>\n",
       "      <td id=\"T_7ee7a_row8_col0\" class=\"data row8 col0\" >0.8981</td>\n",
       "      <td id=\"T_7ee7a_row8_col1\" class=\"data row8 col1\" >0.9695</td>\n",
       "      <td id=\"T_7ee7a_row8_col2\" class=\"data row8 col2\" >0.9000</td>\n",
       "      <td id=\"T_7ee7a_row8_col3\" class=\"data row8 col3\" >0.0125</td>\n",
       "      <td id=\"T_7ee7a_row8_col4\" class=\"data row8 col4\" >0.0246</td>\n",
       "      <td id=\"T_7ee7a_row8_col5\" class=\"data row8 col5\" >0.0219</td>\n",
       "      <td id=\"T_7ee7a_row8_col6\" class=\"data row8 col6\" >0.0992</td>\n",
       "    </tr>\n",
       "    <tr>\n",
       "      <th id=\"T_7ee7a_level0_row9\" class=\"row_heading level0 row9\" >9</th>\n",
       "      <td id=\"T_7ee7a_row9_col0\" class=\"data row9 col0\" >0.9053</td>\n",
       "      <td id=\"T_7ee7a_row9_col1\" class=\"data row9 col1\" >0.9757</td>\n",
       "      <td id=\"T_7ee7a_row9_col2\" class=\"data row9 col2\" >0.9000</td>\n",
       "      <td id=\"T_7ee7a_row9_col3\" class=\"data row9 col3\" >0.0134</td>\n",
       "      <td id=\"T_7ee7a_row9_col4\" class=\"data row9 col4\" >0.0264</td>\n",
       "      <td id=\"T_7ee7a_row9_col5\" class=\"data row9 col5\" >0.0237</td>\n",
       "      <td id=\"T_7ee7a_row9_col6\" class=\"data row9 col6\" >0.1033</td>\n",
       "    </tr>\n",
       "    <tr>\n",
       "      <th id=\"T_7ee7a_level0_row10\" class=\"row_heading level0 row10\" >Mean</th>\n",
       "      <td id=\"T_7ee7a_row10_col0\" class=\"data row10 col0\" >0.8965</td>\n",
       "      <td id=\"T_7ee7a_row10_col1\" class=\"data row10 col1\" >0.9791</td>\n",
       "      <td id=\"T_7ee7a_row10_col2\" class=\"data row10 col2\" >0.9300</td>\n",
       "      <td id=\"T_7ee7a_row10_col3\" class=\"data row10 col3\" >0.0126</td>\n",
       "      <td id=\"T_7ee7a_row10_col4\" class=\"data row10 col4\" >0.0249</td>\n",
       "      <td id=\"T_7ee7a_row10_col5\" class=\"data row10 col5\" >0.0221</td>\n",
       "      <td id=\"T_7ee7a_row10_col6\" class=\"data row10 col6\" >0.1015</td>\n",
       "    </tr>\n",
       "    <tr>\n",
       "      <th id=\"T_7ee7a_level0_row11\" class=\"row_heading level0 row11\" >Std</th>\n",
       "      <td id=\"T_7ee7a_row11_col0\" class=\"data row11 col0\" >0.0106</td>\n",
       "      <td id=\"T_7ee7a_row11_col1\" class=\"data row11 col1\" >0.0154</td>\n",
       "      <td id=\"T_7ee7a_row11_col2\" class=\"data row11 col2\" >0.0900</td>\n",
       "      <td id=\"T_7ee7a_row11_col3\" class=\"data row11 col3\" >0.0011</td>\n",
       "      <td id=\"T_7ee7a_row11_col4\" class=\"data row11 col4\" >0.0022</td>\n",
       "      <td id=\"T_7ee7a_row11_col5\" class=\"data row11 col5\" >0.0022</td>\n",
       "      <td id=\"T_7ee7a_row11_col6\" class=\"data row11 col6\" >0.0085</td>\n",
       "    </tr>\n",
       "  </tbody>\n",
       "</table>\n"
      ],
      "text/plain": [
       "<pandas.io.formats.style.Styler at 0x16d75350820>"
      ]
     },
     "metadata": {},
     "output_type": "display_data"
    },
    {
     "data": {
      "text/html": [],
      "text/plain": [
       "<IPython.core.display.HTML object>"
      ]
     },
     "metadata": {},
     "output_type": "display_data"
    }
   ],
   "source": [
    "logr_model = create_model('lr')"
   ]
  },
  {
   "cell_type": "code",
   "execution_count": 2,
   "id": "637435bd-54b2-47b6-83bb-f3a1b8a32b5d",
   "metadata": {},
   "outputs": [],
   "source": [
    "#Cross validation by kfold method is performed above"
   ]
  },
  {
   "cell_type": "markdown",
   "id": "a363b5fe-65b1-48df-8684-9ecbfdc24b36",
   "metadata": {},
   "source": [
    "Fine tuning the model"
   ]
  },
  {
   "cell_type": "code",
   "execution_count": 215,
   "id": "34aa76c6-123d-4722-9a46-8bef1d5e6aa0",
   "metadata": {},
   "outputs": [
    {
     "data": {
      "text/html": [],
      "text/plain": [
       "<IPython.core.display.HTML object>"
      ]
     },
     "metadata": {},
     "output_type": "display_data"
    },
    {
     "data": {
      "text/html": [
       "<style type=\"text/css\">\n",
       "#T_dad54_row10_col0, #T_dad54_row10_col1, #T_dad54_row10_col2, #T_dad54_row10_col3, #T_dad54_row10_col4, #T_dad54_row10_col5, #T_dad54_row10_col6 {\n",
       "  background: yellow;\n",
       "}\n",
       "</style>\n",
       "<table id=\"T_dad54\">\n",
       "  <thead>\n",
       "    <tr>\n",
       "      <th class=\"blank level0\" >&nbsp;</th>\n",
       "      <th id=\"T_dad54_level0_col0\" class=\"col_heading level0 col0\" >Accuracy</th>\n",
       "      <th id=\"T_dad54_level0_col1\" class=\"col_heading level0 col1\" >AUC</th>\n",
       "      <th id=\"T_dad54_level0_col2\" class=\"col_heading level0 col2\" >Recall</th>\n",
       "      <th id=\"T_dad54_level0_col3\" class=\"col_heading level0 col3\" >Prec.</th>\n",
       "      <th id=\"T_dad54_level0_col4\" class=\"col_heading level0 col4\" >F1</th>\n",
       "      <th id=\"T_dad54_level0_col5\" class=\"col_heading level0 col5\" >Kappa</th>\n",
       "      <th id=\"T_dad54_level0_col6\" class=\"col_heading level0 col6\" >MCC</th>\n",
       "    </tr>\n",
       "    <tr>\n",
       "      <th class=\"index_name level0\" >Fold</th>\n",
       "      <th class=\"blank col0\" >&nbsp;</th>\n",
       "      <th class=\"blank col1\" >&nbsp;</th>\n",
       "      <th class=\"blank col2\" >&nbsp;</th>\n",
       "      <th class=\"blank col3\" >&nbsp;</th>\n",
       "      <th class=\"blank col4\" >&nbsp;</th>\n",
       "      <th class=\"blank col5\" >&nbsp;</th>\n",
       "      <th class=\"blank col6\" >&nbsp;</th>\n",
       "    </tr>\n",
       "  </thead>\n",
       "  <tbody>\n",
       "    <tr>\n",
       "      <th id=\"T_dad54_level0_row0\" class=\"row_heading level0 row0\" >0</th>\n",
       "      <td id=\"T_dad54_row0_col0\" class=\"data row0 col0\" >0.8903</td>\n",
       "      <td id=\"T_dad54_row0_col1\" class=\"data row0 col1\" >0.9982</td>\n",
       "      <td id=\"T_dad54_row0_col2\" class=\"data row0 col2\" >1.0000</td>\n",
       "      <td id=\"T_dad54_row0_col3\" class=\"data row0 col3\" >0.0116</td>\n",
       "      <td id=\"T_dad54_row0_col4\" class=\"data row0 col4\" >0.0229</td>\n",
       "      <td id=\"T_dad54_row0_col5\" class=\"data row0 col5\" >0.0204</td>\n",
       "      <td id=\"T_dad54_row0_col6\" class=\"data row0 col6\" >0.1015</td>\n",
       "    </tr>\n",
       "    <tr>\n",
       "      <th id=\"T_dad54_level0_row1\" class=\"row_heading level0 row1\" >1</th>\n",
       "      <td id=\"T_dad54_row1_col0\" class=\"data row1 col0\" >0.9089</td>\n",
       "      <td id=\"T_dad54_row1_col1\" class=\"data row1 col1\" >0.9586</td>\n",
       "      <td id=\"T_dad54_row1_col2\" class=\"data row1 col2\" >0.9000</td>\n",
       "      <td id=\"T_dad54_row1_col3\" class=\"data row1 col3\" >0.0139</td>\n",
       "      <td id=\"T_dad54_row1_col4\" class=\"data row1 col4\" >0.0274</td>\n",
       "      <td id=\"T_dad54_row1_col5\" class=\"data row1 col5\" >0.0247</td>\n",
       "      <td id=\"T_dad54_row1_col6\" class=\"data row1 col6\" >0.1056</td>\n",
       "    </tr>\n",
       "    <tr>\n",
       "      <th id=\"T_dad54_level0_row2\" class=\"row_heading level0 row2\" >2</th>\n",
       "      <td id=\"T_dad54_row2_col0\" class=\"data row2 col0\" >0.8887</td>\n",
       "      <td id=\"T_dad54_row2_col1\" class=\"data row2 col1\" >0.9911</td>\n",
       "      <td id=\"T_dad54_row2_col2\" class=\"data row2 col2\" >1.0000</td>\n",
       "      <td id=\"T_dad54_row2_col3\" class=\"data row2 col3\" >0.0127</td>\n",
       "      <td id=\"T_dad54_row2_col4\" class=\"data row2 col4\" >0.0250</td>\n",
       "      <td id=\"T_dad54_row2_col5\" class=\"data row2 col5\" >0.0223</td>\n",
       "      <td id=\"T_dad54_row2_col6\" class=\"data row2 col6\" >0.1061</td>\n",
       "    </tr>\n",
       "    <tr>\n",
       "      <th id=\"T_dad54_level0_row3\" class=\"row_heading level0 row3\" >3</th>\n",
       "      <td id=\"T_dad54_row3_col0\" class=\"data row3 col0\" >0.9143</td>\n",
       "      <td id=\"T_dad54_row3_col1\" class=\"data row3 col1\" >0.9493</td>\n",
       "      <td id=\"T_dad54_row3_col2\" class=\"data row3 col2\" >0.7000</td>\n",
       "      <td id=\"T_dad54_row3_col3\" class=\"data row3 col3\" >0.0116</td>\n",
       "      <td id=\"T_dad54_row3_col4\" class=\"data row3 col4\" >0.0228</td>\n",
       "      <td id=\"T_dad54_row3_col5\" class=\"data row3 col5\" >0.0200</td>\n",
       "      <td id=\"T_dad54_row3_col6\" class=\"data row3 col6\" >0.0827</td>\n",
       "    </tr>\n",
       "    <tr>\n",
       "      <th id=\"T_dad54_level0_row4\" class=\"row_heading level0 row4\" >4</th>\n",
       "      <td id=\"T_dad54_row4_col0\" class=\"data row4 col0\" >0.8910</td>\n",
       "      <td id=\"T_dad54_row4_col1\" class=\"data row4 col1\" >0.9931</td>\n",
       "      <td id=\"T_dad54_row4_col2\" class=\"data row4 col2\" >1.0000</td>\n",
       "      <td id=\"T_dad54_row4_col3\" class=\"data row4 col3\" >0.0129</td>\n",
       "      <td id=\"T_dad54_row4_col4\" class=\"data row4 col4\" >0.0255</td>\n",
       "      <td id=\"T_dad54_row4_col5\" class=\"data row4 col5\" >0.0228</td>\n",
       "      <td id=\"T_dad54_row4_col6\" class=\"data row4 col6\" >0.1074</td>\n",
       "    </tr>\n",
       "    <tr>\n",
       "      <th id=\"T_dad54_level0_row5\" class=\"row_heading level0 row5\" >5</th>\n",
       "      <td id=\"T_dad54_row5_col0\" class=\"data row5 col0\" >0.9037</td>\n",
       "      <td id=\"T_dad54_row5_col1\" class=\"data row5 col1\" >0.9823</td>\n",
       "      <td id=\"T_dad54_row5_col2\" class=\"data row5 col2\" >1.0000</td>\n",
       "      <td id=\"T_dad54_row5_col3\" class=\"data row5 col3\" >0.0146</td>\n",
       "      <td id=\"T_dad54_row5_col4\" class=\"data row5 col4\" >0.0288</td>\n",
       "      <td id=\"T_dad54_row5_col5\" class=\"data row5 col5\" >0.0261</td>\n",
       "      <td id=\"T_dad54_row5_col6\" class=\"data row5 col6\" >0.1149</td>\n",
       "    </tr>\n",
       "    <tr>\n",
       "      <th id=\"T_dad54_level0_row6\" class=\"row_heading level0 row6\" >6</th>\n",
       "      <td id=\"T_dad54_row6_col0\" class=\"data row6 col0\" >0.8834</td>\n",
       "      <td id=\"T_dad54_row6_col1\" class=\"data row6 col1\" >0.9946</td>\n",
       "      <td id=\"T_dad54_row6_col2\" class=\"data row6 col2\" >1.0000</td>\n",
       "      <td id=\"T_dad54_row6_col3\" class=\"data row6 col3\" >0.0121</td>\n",
       "      <td id=\"T_dad54_row6_col4\" class=\"data row6 col4\" >0.0239</td>\n",
       "      <td id=\"T_dad54_row6_col5\" class=\"data row6 col5\" >0.0212</td>\n",
       "      <td id=\"T_dad54_row6_col6\" class=\"data row6 col6\" >0.1034</td>\n",
       "    </tr>\n",
       "    <tr>\n",
       "      <th id=\"T_dad54_level0_row7\" class=\"row_heading level0 row7\" >7</th>\n",
       "      <td id=\"T_dad54_row7_col0\" class=\"data row7 col0\" >0.8819</td>\n",
       "      <td id=\"T_dad54_row7_col1\" class=\"data row7 col1\" >0.9789</td>\n",
       "      <td id=\"T_dad54_row7_col2\" class=\"data row7 col2\" >0.9000</td>\n",
       "      <td id=\"T_dad54_row7_col3\" class=\"data row7 col3\" >0.0108</td>\n",
       "      <td id=\"T_dad54_row7_col4\" class=\"data row7 col4\" >0.0213</td>\n",
       "      <td id=\"T_dad54_row7_col5\" class=\"data row7 col5\" >0.0185</td>\n",
       "      <td id=\"T_dad54_row7_col6\" class=\"data row7 col6\" >0.0911</td>\n",
       "    </tr>\n",
       "    <tr>\n",
       "      <th id=\"T_dad54_level0_row8\" class=\"row_heading level0 row8\" >8</th>\n",
       "      <td id=\"T_dad54_row8_col0\" class=\"data row8 col0\" >0.8981</td>\n",
       "      <td id=\"T_dad54_row8_col1\" class=\"data row8 col1\" >0.9695</td>\n",
       "      <td id=\"T_dad54_row8_col2\" class=\"data row8 col2\" >0.9000</td>\n",
       "      <td id=\"T_dad54_row8_col3\" class=\"data row8 col3\" >0.0125</td>\n",
       "      <td id=\"T_dad54_row8_col4\" class=\"data row8 col4\" >0.0246</td>\n",
       "      <td id=\"T_dad54_row8_col5\" class=\"data row8 col5\" >0.0219</td>\n",
       "      <td id=\"T_dad54_row8_col6\" class=\"data row8 col6\" >0.0992</td>\n",
       "    </tr>\n",
       "    <tr>\n",
       "      <th id=\"T_dad54_level0_row9\" class=\"row_heading level0 row9\" >9</th>\n",
       "      <td id=\"T_dad54_row9_col0\" class=\"data row9 col0\" >0.9053</td>\n",
       "      <td id=\"T_dad54_row9_col1\" class=\"data row9 col1\" >0.9757</td>\n",
       "      <td id=\"T_dad54_row9_col2\" class=\"data row9 col2\" >0.9000</td>\n",
       "      <td id=\"T_dad54_row9_col3\" class=\"data row9 col3\" >0.0134</td>\n",
       "      <td id=\"T_dad54_row9_col4\" class=\"data row9 col4\" >0.0264</td>\n",
       "      <td id=\"T_dad54_row9_col5\" class=\"data row9 col5\" >0.0237</td>\n",
       "      <td id=\"T_dad54_row9_col6\" class=\"data row9 col6\" >0.1033</td>\n",
       "    </tr>\n",
       "    <tr>\n",
       "      <th id=\"T_dad54_level0_row10\" class=\"row_heading level0 row10\" >Mean</th>\n",
       "      <td id=\"T_dad54_row10_col0\" class=\"data row10 col0\" >0.8966</td>\n",
       "      <td id=\"T_dad54_row10_col1\" class=\"data row10 col1\" >0.9792</td>\n",
       "      <td id=\"T_dad54_row10_col2\" class=\"data row10 col2\" >0.9300</td>\n",
       "      <td id=\"T_dad54_row10_col3\" class=\"data row10 col3\" >0.0126</td>\n",
       "      <td id=\"T_dad54_row10_col4\" class=\"data row10 col4\" >0.0249</td>\n",
       "      <td id=\"T_dad54_row10_col5\" class=\"data row10 col5\" >0.0222</td>\n",
       "      <td id=\"T_dad54_row10_col6\" class=\"data row10 col6\" >0.1015</td>\n",
       "    </tr>\n",
       "    <tr>\n",
       "      <th id=\"T_dad54_level0_row11\" class=\"row_heading level0 row11\" >Std</th>\n",
       "      <td id=\"T_dad54_row11_col0\" class=\"data row11 col0\" >0.0106</td>\n",
       "      <td id=\"T_dad54_row11_col1\" class=\"data row11 col1\" >0.0154</td>\n",
       "      <td id=\"T_dad54_row11_col2\" class=\"data row11 col2\" >0.0900</td>\n",
       "      <td id=\"T_dad54_row11_col3\" class=\"data row11 col3\" >0.0011</td>\n",
       "      <td id=\"T_dad54_row11_col4\" class=\"data row11 col4\" >0.0022</td>\n",
       "      <td id=\"T_dad54_row11_col5\" class=\"data row11 col5\" >0.0022</td>\n",
       "      <td id=\"T_dad54_row11_col6\" class=\"data row11 col6\" >0.0085</td>\n",
       "    </tr>\n",
       "  </tbody>\n",
       "</table>\n"
      ],
      "text/plain": [
       "<pandas.io.formats.style.Styler at 0x16e29eabf70>"
      ]
     },
     "metadata": {},
     "output_type": "display_data"
    },
    {
     "data": {
      "text/html": [],
      "text/plain": [
       "<IPython.core.display.HTML object>"
      ]
     },
     "metadata": {},
     "output_type": "display_data"
    },
    {
     "name": "stdout",
     "output_type": "stream",
     "text": [
      "Fitting 10 folds for each of 10 candidates, totalling 100 fits\n"
     ]
    }
   ],
   "source": [
    "tuned_model = tune_model(logr_model)\n",
    "final_model = finalize_model(logr_model)\n"
   ]
  },
  {
   "cell_type": "markdown",
   "id": "ffd3f6a7-3c7b-46cc-88ac-bd256bce1e47",
   "metadata": {},
   "source": [
    "PREDICTIONS"
   ]
  },
  {
   "cell_type": "code",
   "execution_count": 216,
   "id": "1fbb5d06-7f0c-4bd0-9d4a-ff9812e02962",
   "metadata": {},
   "outputs": [
    {
     "data": {
      "text/html": [
       "<style type=\"text/css\">\n",
       "</style>\n",
       "<table id=\"T_79716\">\n",
       "  <thead>\n",
       "    <tr>\n",
       "      <th class=\"blank level0\" >&nbsp;</th>\n",
       "      <th id=\"T_79716_level0_col0\" class=\"col_heading level0 col0\" >Model</th>\n",
       "      <th id=\"T_79716_level0_col1\" class=\"col_heading level0 col1\" >Accuracy</th>\n",
       "      <th id=\"T_79716_level0_col2\" class=\"col_heading level0 col2\" >AUC</th>\n",
       "      <th id=\"T_79716_level0_col3\" class=\"col_heading level0 col3\" >Recall</th>\n",
       "      <th id=\"T_79716_level0_col4\" class=\"col_heading level0 col4\" >Prec.</th>\n",
       "      <th id=\"T_79716_level0_col5\" class=\"col_heading level0 col5\" >F1</th>\n",
       "      <th id=\"T_79716_level0_col6\" class=\"col_heading level0 col6\" >Kappa</th>\n",
       "      <th id=\"T_79716_level0_col7\" class=\"col_heading level0 col7\" >MCC</th>\n",
       "    </tr>\n",
       "  </thead>\n",
       "  <tbody>\n",
       "    <tr>\n",
       "      <th id=\"T_79716_level0_row0\" class=\"row_heading level0 row0\" >0</th>\n",
       "      <td id=\"T_79716_row0_col0\" class=\"data row0 col0\" >Logistic Regression</td>\n",
       "      <td id=\"T_79716_row0_col1\" class=\"data row0 col1\" >0.8841</td>\n",
       "      <td id=\"T_79716_row0_col2\" class=\"data row0 col2\" >0.9770</td>\n",
       "      <td id=\"T_79716_row0_col3\" class=\"data row0 col3\" >0.9524</td>\n",
       "      <td id=\"T_79716_row0_col4\" class=\"data row0 col4\" >0.0114</td>\n",
       "      <td id=\"T_79716_row0_col5\" class=\"data row0 col5\" >0.0225</td>\n",
       "      <td id=\"T_79716_row0_col6\" class=\"data row0 col6\" >0.0198</td>\n",
       "      <td id=\"T_79716_row0_col7\" class=\"data row0 col7\" >0.0972</td>\n",
       "    </tr>\n",
       "  </tbody>\n",
       "</table>\n"
      ],
      "text/plain": [
       "<pandas.io.formats.style.Styler at 0x16e31f1fa60>"
      ]
     },
     "metadata": {},
     "output_type": "display_data"
    },
    {
     "name": "stdout",
     "output_type": "stream",
     "text": [
      "         step        amount  oldbalanceOrg  newbalanceOrig  oldbalanceDest  \\\n",
      "3871572   283  1.454267e+07       0.000000        0.000000    1.493533e+07   \n",
      "682862     36  8.315610e+03       0.000000        0.000000    0.000000e+00   \n",
      "5575015   393  1.137978e+05       0.000000        0.000000    1.257599e+06   \n",
      "1926828   168  1.163922e+04   24230.130859    12590.910156    0.000000e+00   \n",
      "5163933   358  4.750644e+04   62848.000000    15341.559570    8.860585e+04   \n",
      "\n",
      "         newbalanceDest isFlaggedFraud  type_CASH_IN  type_CASH_OUT  \\\n",
      "3871572    2.947800e+07              0         False          False   \n",
      "682862     0.000000e+00              0         False          False   \n",
      "5575015    1.371396e+06              0         False           True   \n",
      "1926828    0.000000e+00              0         False          False   \n",
      "5163933    1.361123e+05              0         False           True   \n",
      "\n",
      "         type_DEBIT  type_PAYMENT  type_TRANSFER  isFraud  prediction_label  \\\n",
      "3871572       False         False           True        0                 0   \n",
      "682862        False          True          False        0                 0   \n",
      "5575015       False         False          False        0                 0   \n",
      "1926828       False          True          False        0                 0   \n",
      "5163933       False         False          False        0                 1   \n",
      "\n",
      "         prediction_score  \n",
      "3871572            0.9568  \n",
      "682862             1.0000  \n",
      "5575015            0.9813  \n",
      "1926828            1.0000  \n",
      "5163933            0.7495  \n"
     ]
    }
   ],
   "source": [
    "predictions = predict_model(final_model)\n",
    "print(predictions.head())"
   ]
  },
  {
   "cell_type": "markdown",
   "id": "01575a40-31e8-49a4-95f0-d51956b34343",
   "metadata": {},
   "source": [
    "CHECK THE FEATURES USED"
   ]
  },
  {
   "cell_type": "code",
   "execution_count": 167,
   "id": "b4fb6564-ef68-4d8e-ae40-50aed92c30e7",
   "metadata": {},
   "outputs": [
    {
     "name": "stdout",
     "output_type": "stream",
     "text": [
      "Index(['step', 'amount', 'oldbalanceOrg', 'newbalanceOrig', 'oldbalanceDest',\n",
      "       'newbalanceDest', 'isFlaggedFraud', 'type_CASH_IN', 'type_CASH_OUT',\n",
      "       'type_DEBIT', 'type_PAYMENT', 'type_TRANSFER'],\n",
      "      dtype='object')\n"
     ]
    }
   ],
   "source": [
    "print(mod.get_config('X').columns)"
   ]
  },
  {
   "cell_type": "code",
   "execution_count": null,
   "id": "8bc97594-611b-49e7-b3f9-47bf7f88a9fd",
   "metadata": {},
   "outputs": [],
   "source": []
  },
  {
   "cell_type": "markdown",
   "id": "946dcaa7-cffd-4c5d-987b-b193070190be",
   "metadata": {},
   "source": [
    "# SUMMARY"
   ]
  },
  {
   "cell_type": "markdown",
   "id": "4dd146a9-f6d1-4250-83bf-19c5c3ecdc7d",
   "metadata": {},
   "source": [
    "## As the computation was huge, at the start 1/6th of the data selected randomly is analysed, processed and set up. While creating the model, pyCaret gives best fit only as per accuracy, whereas if considered all the AUC, Recall, F1, Precision values, gbc - Gradient Boost Classifier turns out to be the best for 1/6th of data. This too is high computational for tuning and predictions, hence yet another smaller chunk is considered for which the best model is Logistic Regression. "
   ]
  },
  {
   "cell_type": "code",
   "execution_count": null,
   "id": "227ebae4-27c0-4f70-8b73-7ef9074d5ff1",
   "metadata": {},
   "outputs": [],
   "source": []
  }
 ],
 "metadata": {
  "kernelspec": {
   "display_name": "Python 3 (ipykernel)",
   "language": "python",
   "name": "python3"
  },
  "language_info": {
   "codemirror_mode": {
    "name": "ipython",
    "version": 3
   },
   "file_extension": ".py",
   "mimetype": "text/x-python",
   "name": "python",
   "nbconvert_exporter": "python",
   "pygments_lexer": "ipython3",
   "version": "3.9.20"
  }
 },
 "nbformat": 4,
 "nbformat_minor": 5
}
